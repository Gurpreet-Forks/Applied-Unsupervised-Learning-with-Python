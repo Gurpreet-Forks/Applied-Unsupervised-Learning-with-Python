{
 "cells": [
  {
   "cell_type": "markdown",
   "metadata": {},
   "source": [
    "# Exercise 6 - Visualising Variance Reduction with Manual PCA\n",
    "\n",
    "This exercise will walk us through this process so we can see how much information has been discarded by the PCA transformation, using the manual PCA process.\n",
    "\n",
    "Import the pandas, Numpy and matplotlib plotting library."
   ]
  },
  {
   "cell_type": "code",
   "execution_count": 1,
   "metadata": {},
   "outputs": [],
   "source": [
    "import pandas as pd\n",
    "import numpy as np\n",
    "import matplotlib.pyplot as plt"
   ]
  },
  {
   "cell_type": "markdown",
   "metadata": {},
   "source": [
    "Read in the Sepal features from the Iris dataset"
   ]
  },
  {
   "cell_type": "code",
   "execution_count": 2,
   "metadata": {},
   "outputs": [
    {
     "data": {
      "text/html": [
       "<div>\n",
       "<style scoped>\n",
       "    .dataframe tbody tr th:only-of-type {\n",
       "        vertical-align: middle;\n",
       "    }\n",
       "\n",
       "    .dataframe tbody tr th {\n",
       "        vertical-align: top;\n",
       "    }\n",
       "\n",
       "    .dataframe thead th {\n",
       "        text-align: right;\n",
       "    }\n",
       "</style>\n",
       "<table border=\"1\" class=\"dataframe\">\n",
       "  <thead>\n",
       "    <tr style=\"text-align: right;\">\n",
       "      <th></th>\n",
       "      <th>Sepal Length</th>\n",
       "      <th>Sepal Width</th>\n",
       "    </tr>\n",
       "  </thead>\n",
       "  <tbody>\n",
       "    <tr>\n",
       "      <th>0</th>\n",
       "      <td>5.1</td>\n",
       "      <td>3.5</td>\n",
       "    </tr>\n",
       "    <tr>\n",
       "      <th>1</th>\n",
       "      <td>4.9</td>\n",
       "      <td>3.0</td>\n",
       "    </tr>\n",
       "    <tr>\n",
       "      <th>2</th>\n",
       "      <td>4.7</td>\n",
       "      <td>3.2</td>\n",
       "    </tr>\n",
       "    <tr>\n",
       "      <th>3</th>\n",
       "      <td>4.6</td>\n",
       "      <td>3.1</td>\n",
       "    </tr>\n",
       "    <tr>\n",
       "      <th>4</th>\n",
       "      <td>5.0</td>\n",
       "      <td>3.6</td>\n",
       "    </tr>\n",
       "  </tbody>\n",
       "</table>\n",
       "</div>"
      ],
      "text/plain": [
       "   Sepal Length  Sepal Width\n",
       "0           5.1          3.5\n",
       "1           4.9          3.0\n",
       "2           4.7          3.2\n",
       "3           4.6          3.1\n",
       "4           5.0          3.6"
      ]
     },
     "execution_count": 2,
     "metadata": {},
     "output_type": "execute_result"
    }
   ],
   "source": [
    "df = pd.read_csv('iris-data.csv')[['Sepal Length', 'Sepal Width']]\n",
    "df.head()"
   ]
  },
  {
   "cell_type": "markdown",
   "metadata": {},
   "source": [
    "Centre the dataset around 0, by subtracting the respective means"
   ]
  },
  {
   "cell_type": "code",
   "execution_count": 3,
   "metadata": {},
   "outputs": [
    {
     "data": {
      "text/plain": [
       "array([5.84333333, 3.054     ])"
      ]
     },
     "execution_count": 3,
     "metadata": {},
     "output_type": "execute_result"
    }
   ],
   "source": [
    "means = np.mean(df.values, axis=0)\n",
    "means"
   ]
  },
  {
   "cell_type": "code",
   "execution_count": 4,
   "metadata": {},
   "outputs": [
    {
     "data": {
      "text/plain": [
       "array([[-0.74333333,  0.446     ],\n",
       "       [-0.94333333, -0.054     ],\n",
       "       [-1.14333333,  0.146     ],\n",
       "       [-1.24333333,  0.046     ],\n",
       "       [-0.84333333,  0.546     ],\n",
       "       [-0.44333333,  0.846     ],\n",
       "       [-1.24333333,  0.346     ],\n",
       "       [-0.84333333,  0.346     ],\n",
       "       [-1.44333333, -0.154     ],\n",
       "       [-0.94333333,  0.046     ],\n",
       "       [-0.44333333,  0.646     ],\n",
       "       [-1.04333333,  0.346     ],\n",
       "       [-1.04333333, -0.054     ],\n",
       "       [-1.54333333, -0.054     ],\n",
       "       [-0.04333333,  0.946     ],\n",
       "       [-0.14333333,  1.346     ],\n",
       "       [-0.44333333,  0.846     ],\n",
       "       [-0.74333333,  0.446     ],\n",
       "       [-0.14333333,  0.746     ],\n",
       "       [-0.74333333,  0.746     ],\n",
       "       [-0.44333333,  0.346     ],\n",
       "       [-0.74333333,  0.646     ],\n",
       "       [-1.24333333,  0.546     ],\n",
       "       [-0.74333333,  0.246     ],\n",
       "       [-1.04333333,  0.346     ],\n",
       "       [-0.84333333, -0.054     ],\n",
       "       [-0.84333333,  0.346     ],\n",
       "       [-0.64333333,  0.446     ],\n",
       "       [-0.64333333,  0.346     ],\n",
       "       [-1.14333333,  0.146     ],\n",
       "       [-1.04333333,  0.046     ],\n",
       "       [-0.44333333,  0.346     ],\n",
       "       [-0.64333333,  1.046     ],\n",
       "       [-0.34333333,  1.146     ],\n",
       "       [-0.94333333,  0.046     ],\n",
       "       [-0.84333333,  0.146     ],\n",
       "       [-0.34333333,  0.446     ],\n",
       "       [-0.94333333,  0.046     ],\n",
       "       [-1.44333333, -0.054     ],\n",
       "       [-0.74333333,  0.346     ],\n",
       "       [-0.84333333,  0.446     ],\n",
       "       [-1.34333333, -0.754     ],\n",
       "       [-1.44333333,  0.146     ],\n",
       "       [-0.84333333,  0.446     ],\n",
       "       [-0.74333333,  0.746     ],\n",
       "       [-1.04333333, -0.054     ],\n",
       "       [-0.74333333,  0.746     ],\n",
       "       [-1.24333333,  0.146     ],\n",
       "       [-0.54333333,  0.646     ],\n",
       "       [-0.84333333,  0.246     ],\n",
       "       [ 1.15666667,  0.146     ],\n",
       "       [ 0.55666667,  0.146     ],\n",
       "       [ 1.05666667,  0.046     ],\n",
       "       [-0.34333333, -0.754     ],\n",
       "       [ 0.65666667, -0.254     ],\n",
       "       [-0.14333333, -0.254     ],\n",
       "       [ 0.45666667,  0.246     ],\n",
       "       [-0.94333333, -0.654     ],\n",
       "       [ 0.75666667, -0.154     ],\n",
       "       [-0.64333333, -0.354     ],\n",
       "       [-0.84333333, -1.054     ],\n",
       "       [ 0.05666667, -0.054     ],\n",
       "       [ 0.15666667, -0.854     ],\n",
       "       [ 0.25666667, -0.154     ],\n",
       "       [-0.24333333, -0.154     ],\n",
       "       [ 0.85666667,  0.046     ],\n",
       "       [-0.24333333, -0.054     ],\n",
       "       [-0.04333333, -0.354     ],\n",
       "       [ 0.35666667, -0.854     ],\n",
       "       [-0.24333333, -0.554     ],\n",
       "       [ 0.05666667,  0.146     ],\n",
       "       [ 0.25666667, -0.254     ],\n",
       "       [ 0.45666667, -0.554     ],\n",
       "       [ 0.25666667, -0.254     ],\n",
       "       [ 0.55666667, -0.154     ],\n",
       "       [ 0.75666667, -0.054     ],\n",
       "       [ 0.95666667, -0.254     ],\n",
       "       [ 0.85666667, -0.054     ],\n",
       "       [ 0.15666667, -0.154     ],\n",
       "       [-0.14333333, -0.454     ],\n",
       "       [-0.34333333, -0.654     ],\n",
       "       [-0.34333333, -0.654     ],\n",
       "       [-0.04333333, -0.354     ],\n",
       "       [ 0.15666667, -0.354     ],\n",
       "       [-0.44333333, -0.054     ],\n",
       "       [ 0.15666667,  0.346     ],\n",
       "       [ 0.85666667,  0.046     ],\n",
       "       [ 0.45666667, -0.754     ],\n",
       "       [-0.24333333, -0.054     ],\n",
       "       [-0.34333333, -0.554     ],\n",
       "       [-0.34333333, -0.454     ],\n",
       "       [ 0.25666667, -0.054     ],\n",
       "       [-0.04333333, -0.454     ],\n",
       "       [-0.84333333, -0.754     ],\n",
       "       [-0.24333333, -0.354     ],\n",
       "       [-0.14333333, -0.054     ],\n",
       "       [-0.14333333, -0.154     ],\n",
       "       [ 0.35666667, -0.154     ],\n",
       "       [-0.74333333, -0.554     ],\n",
       "       [-0.14333333, -0.254     ],\n",
       "       [ 0.45666667,  0.246     ],\n",
       "       [-0.04333333, -0.354     ],\n",
       "       [ 1.25666667, -0.054     ],\n",
       "       [ 0.45666667, -0.154     ],\n",
       "       [ 0.65666667, -0.054     ],\n",
       "       [ 1.75666667, -0.054     ],\n",
       "       [-0.94333333, -0.554     ],\n",
       "       [ 1.45666667, -0.154     ],\n",
       "       [ 0.85666667, -0.554     ],\n",
       "       [ 1.35666667,  0.546     ],\n",
       "       [ 0.65666667,  0.146     ],\n",
       "       [ 0.55666667, -0.354     ],\n",
       "       [ 0.95666667, -0.054     ],\n",
       "       [-0.14333333, -0.554     ],\n",
       "       [-0.04333333, -0.254     ],\n",
       "       [ 0.55666667,  0.146     ],\n",
       "       [ 0.65666667, -0.054     ],\n",
       "       [ 1.85666667,  0.746     ],\n",
       "       [ 1.85666667, -0.454     ],\n",
       "       [ 0.15666667, -0.854     ],\n",
       "       [ 1.05666667,  0.146     ],\n",
       "       [-0.24333333, -0.254     ],\n",
       "       [ 1.85666667, -0.254     ],\n",
       "       [ 0.45666667, -0.354     ],\n",
       "       [ 0.85666667,  0.246     ],\n",
       "       [ 1.35666667,  0.146     ],\n",
       "       [ 0.35666667, -0.254     ],\n",
       "       [ 0.25666667, -0.054     ],\n",
       "       [ 0.55666667, -0.254     ],\n",
       "       [ 1.35666667, -0.054     ],\n",
       "       [ 1.55666667, -0.254     ],\n",
       "       [ 2.05666667,  0.746     ],\n",
       "       [ 0.55666667, -0.254     ],\n",
       "       [ 0.45666667, -0.254     ],\n",
       "       [ 0.25666667, -0.454     ],\n",
       "       [ 1.85666667, -0.054     ],\n",
       "       [ 0.45666667,  0.346     ],\n",
       "       [ 0.55666667,  0.046     ],\n",
       "       [ 0.15666667, -0.054     ],\n",
       "       [ 1.05666667,  0.046     ],\n",
       "       [ 0.85666667,  0.046     ],\n",
       "       [ 1.05666667,  0.046     ],\n",
       "       [-0.04333333, -0.354     ],\n",
       "       [ 0.95666667,  0.146     ],\n",
       "       [ 0.85666667,  0.246     ],\n",
       "       [ 0.85666667, -0.054     ],\n",
       "       [ 0.45666667, -0.554     ],\n",
       "       [ 0.65666667, -0.054     ],\n",
       "       [ 0.35666667,  0.346     ],\n",
       "       [ 0.05666667, -0.054     ]])"
      ]
     },
     "execution_count": 4,
     "metadata": {},
     "output_type": "execute_result"
    }
   ],
   "source": [
    "data = df.values - means\n",
    "data"
   ]
  },
  {
   "cell_type": "markdown",
   "metadata": {},
   "source": [
    "Use Manual PCA to transform the data on the basis of the first principal component."
   ]
  },
  {
   "cell_type": "code",
   "execution_count": 5,
   "metadata": {},
   "outputs": [
    {
     "data": {
      "text/plain": [
       "array([-0.99693955,  0.07817635])"
      ]
     },
     "execution_count": 5,
     "metadata": {},
     "output_type": "execute_result"
    }
   ],
   "source": [
    "eigenvectors, eigenvalues, _ = np.linalg.svd(np.cov(data.T), full_matrices=False)\n",
    "P = eigenvectors[0]\n",
    "P"
   ]
  },
  {
   "cell_type": "markdown",
   "metadata": {},
   "source": [
    "Transform the data into the lower dimension space"
   ]
  },
  {
   "cell_type": "code",
   "execution_count": 6,
   "metadata": {},
   "outputs": [],
   "source": [
    "data_transformed = P.dot(data.T)"
   ]
  },
  {
   "cell_type": "markdown",
   "metadata": {},
   "source": [
    "Reshape the principal components for later use."
   ]
  },
  {
   "cell_type": "code",
   "execution_count": 7,
   "metadata": {},
   "outputs": [],
   "source": [
    "P = P.reshape((-1, 1))"
   ]
  },
  {
   "cell_type": "markdown",
   "metadata": {},
   "source": [
    "To compute the inverse transform of the reduced dataset we need to restore the selected eigenvectors into the higher dimensional space.  To do this we will invert the matrix."
   ]
  },
  {
   "cell_type": "code",
   "execution_count": 8,
   "metadata": {},
   "outputs": [
    {
     "data": {
      "text/plain": [
       "array([[-0.99693955,  0.07817635]])"
      ]
     },
     "execution_count": 8,
     "metadata": {},
     "output_type": "execute_result"
    }
   ],
   "source": [
    "P_transformed = np.linalg.pinv(P)\n",
    "P_transformed"
   ]
  },
  {
   "cell_type": "markdown",
   "metadata": {},
   "source": [
    "Prepare the transformed data for use in the matrix multiplication"
   ]
  },
  {
   "cell_type": "code",
   "execution_count": 9,
   "metadata": {},
   "outputs": [],
   "source": [
    "data_transformed = data_transformed.reshape((-1, 1))"
   ]
  },
  {
   "cell_type": "markdown",
   "metadata": {},
   "source": [
    "Compute the inverse transform of the reduced data and plot the result to visualise the effect of removing the variance from the data."
   ]
  },
  {
   "cell_type": "code",
   "execution_count": 10,
   "metadata": {},
   "outputs": [
    {
     "data": {
      "text/plain": [
       "array([[-7.73550366e-01,  6.06589915e-02],\n",
       "       [-9.33359508e-01,  7.31906401e-02],\n",
       "       [-1.14772462e+00,  9.00003684e-02],\n",
       "       [-1.23931976e+00,  9.71829241e-02],\n",
       "       [-8.80732922e-01,  6.90638556e-02],\n",
       "       [-5.06558669e-01,  3.97224787e-02],\n",
       "       [-1.26270089e+00,  9.90163868e-02],\n",
       "       [-8.65145502e-01,  6.78415472e-02],\n",
       "       [-1.42251003e+00,  1.11548035e-01],\n",
       "       [-9.41153218e-01,  7.38017944e-02],\n",
       "       [-4.90971249e-01,  3.85001703e-02],\n",
       "       [-1.06392319e+00,  8.34289670e-02],\n",
       "       [-1.03274835e+00,  8.09843500e-02],\n",
       "       [-1.52969258e+00,  1.19952900e-01],\n",
       "       [-1.16796996e-01,  9.15879336e-03],\n",
       "       [-2.47360681e-01,  1.93971202e-02],\n",
       "       [-5.06558669e-01,  3.97224787e-02],\n",
       "       [-7.73550366e-01,  6.06589915e-02],\n",
       "       [-2.00598421e-01,  1.57301948e-02],\n",
       "       [-7.96931496e-01,  6.24924542e-02],\n",
       "       [-4.67590119e-01,  3.66667076e-02],\n",
       "       [-7.89137786e-01,  6.18813000e-02],\n",
       "       [-1.27828831e+00,  1.00238695e-01],\n",
       "       [-7.57962947e-01,  5.94366830e-02],\n",
       "       [-1.06392319e+00,  8.34289670e-02],\n",
       "       [-8.33970663e-01,  6.53969302e-02],\n",
       "       [-8.65145502e-01,  6.78415472e-02],\n",
       "       [-6.74161521e-01,  5.28652816e-02],\n",
       "       [-6.66367811e-01,  5.22541274e-02],\n",
       "       [-1.14772462e+00,  9.00003684e-02],\n",
       "       [-1.04054206e+00,  8.15955043e-02],\n",
       "       [-4.67590119e-01,  3.66667076e-02],\n",
       "       [-7.20923780e-01,  5.65322070e-02],\n",
       "       [-4.30550953e-01,  3.37622315e-02],\n",
       "       [-9.41153218e-01,  7.38017944e-02],\n",
       "       [-8.49558082e-01,  6.66192387e-02],\n",
       "       [-3.75994983e-01,  2.94841519e-02],\n",
       "       [-9.41153218e-01,  7.38017944e-02],\n",
       "       [-1.43030374e+00,  1.12159190e-01],\n",
       "       [-7.65756656e-01,  6.00478373e-02],\n",
       "       [-8.72939212e-01,  6.84527014e-02],\n",
       "       [-1.27635892e+00,  1.00087400e-01],\n",
       "       [-1.44589116e+00,  1.13381498e-01],\n",
       "       [-8.72939212e-01,  6.84527014e-02],\n",
       "       [-7.96931496e-01,  6.24924542e-02],\n",
       "       [-1.03274835e+00,  8.09843500e-02],\n",
       "       [-7.96931496e-01,  6.24924542e-02],\n",
       "       [-1.24711347e+00,  9.77940783e-02],\n",
       "       [-5.90360095e-01,  4.62938802e-02],\n",
       "       [-8.57351792e-01,  6.72303929e-02],\n",
       "       [ 1.13821883e+00, -8.92549593e-02],\n",
       "       [ 5.41885758e-01, -4.24926999e-02],\n",
       "       [ 1.04662370e+00, -8.20724037e-02],\n",
       "       [-2.82470464e-01,  2.21503011e-02],\n",
       "       [ 6.72449444e-01, -5.27310268e-02],\n",
       "       [-1.22661322e-01,  9.61865243e-03],\n",
       "       [ 4.34703203e-01, -3.40878358e-02],\n",
       "       [-8.86597249e-01,  6.95237147e-02],\n",
       "       [ 7.64044580e-01, -5.99135824e-02],\n",
       "       [-6.11811841e-01,  4.79760477e-02],\n",
       "       [-7.56033564e-01,  5.92853879e-02],\n",
       "       [ 6.05289493e-02, -4.74645890e-03],\n",
       "       [ 2.22267474e-01, -1.74294027e-02],\n",
       "       [ 2.67100351e-01, -2.09450329e-02],\n",
       "       [-2.29843878e-01,  1.80235166e-02],\n",
       "       [ 8.47846005e-01, -6.64849839e-02],\n",
       "       [-2.37637588e-01,  1.86346708e-02],\n",
       "       [-1.54787668e-02,  1.21378830e-03],\n",
       "       [ 4.21045166e-01, -3.30168225e-02],\n",
       "       [-1.98669039e-01,  1.55788996e-02],\n",
       "       [ 4.49415295e-02, -3.52415043e-03],\n",
       "       [ 2.74894061e-01, -2.15561872e-02],\n",
       "       [ 4.97052882e-01, -3.89770697e-02],\n",
       "       [ 2.74894061e-01, -2.15561872e-02],\n",
       "       [ 5.65266888e-01, -4.43261626e-02],\n",
       "       [ 7.56250870e-01, -5.93024282e-02],\n",
       "       [ 9.70615981e-01, -7.61121565e-02],\n",
       "       [ 8.55639715e-01, -6.70961381e-02],\n",
       "       [ 1.67711505e-01, -1.31513230e-02],\n",
       "       [-1.07073903e-01,  8.39634396e-03],\n",
       "       [-2.90264174e-01,  2.27614553e-02],\n",
       "       [-2.90264174e-01,  2.27614553e-02],\n",
       "       [-1.54787668e-02,  1.21378830e-03],\n",
       "       [ 1.83298925e-01, -1.43736315e-02],\n",
       "       [-4.36415280e-01,  3.42220906e-02],\n",
       "       [ 1.28742955e-01, -1.00955519e-02],\n",
       "       [ 8.47846005e-01, -6.64849839e-02],\n",
       "       [ 5.12640302e-01, -4.01993782e-02],\n",
       "       [-2.37637588e-01,  1.86346708e-02],\n",
       "       [-2.98057884e-01,  2.33726095e-02],\n",
       "       [-3.05851594e-01,  2.39837638e-02],\n",
       "       [ 2.59306641e-01, -2.03338787e-02],\n",
       "       [-7.68505688e-03,  6.02634062e-04],\n",
       "       [-7.79414693e-01,  6.11188506e-02],\n",
       "       [-2.14256458e-01,  1.68012081e-02],\n",
       "       [-1.38248742e-01,  1.08409609e-02],\n",
       "       [-1.30455032e-01,  1.02298067e-02],\n",
       "       [ 3.66489196e-01, -2.87387428e-02],\n",
       "       [-6.95613267e-01,  5.45474491e-02],\n",
       "       [-1.22661322e-01,  9.61865243e-03],\n",
       "       [ 4.34703203e-01, -3.40878358e-02],\n",
       "       [-1.54787668e-02,  1.21378830e-03],\n",
       "       [ 1.25319510e+00, -9.82709777e-02],\n",
       "       [ 4.65878042e-01, -3.65324527e-02],\n",
       "       [ 6.56862024e-01, -5.15087183e-02],\n",
       "       [ 1.75013933e+00, -1.37239527e-01],\n",
       "       [-8.94390959e-01,  7.01348689e-02],\n",
       "       [ 1.45976650e+00, -1.14469552e-01],\n",
       "       [ 8.94608265e-01, -7.01519093e-02],\n",
       "       [ 1.30582168e+00, -1.02397762e-01],\n",
       "       [ 6.41274604e-01, -5.02864098e-02],\n",
       "       [ 5.80854308e-01, -4.55484711e-02],\n",
       "       [ 9.55028561e-01, -7.48898480e-02],\n",
       "       [-9.92801927e-02,  7.78518973e-03],\n",
       "       [-2.32724767e-02,  1.82494253e-03],\n",
       "       [ 5.41885758e-01, -4.24926999e-02],\n",
       "       [ 6.56862024e-01, -5.15087183e-02],\n",
       "       [ 1.78717849e+00, -1.40144003e-01],\n",
       "       [ 1.88070301e+00, -1.47477854e-01],\n",
       "       [ 2.22267474e-01, -1.74294027e-02],\n",
       "       [ 1.03882999e+00, -8.14612494e-02],\n",
       "       [-2.22050168e-01,  1.74123623e-02],\n",
       "       [ 1.86511559e+00, -1.46255546e-01],\n",
       "       [ 4.81465462e-01, -3.77547612e-02],\n",
       "       [ 8.32258586e-01, -6.52626754e-02],\n",
       "       [ 1.33699652e+00, -1.04842379e-01],\n",
       "       [ 3.74282906e-01, -2.93498971e-02],\n",
       "       [ 2.59306641e-01, -2.03338787e-02],\n",
       "       [ 5.73060598e-01, -4.49373169e-02],\n",
       "       [ 1.35258394e+00, -1.06064688e-01],\n",
       "       [ 1.56694906e+00, -1.22874416e-01],\n",
       "       [ 1.98595619e+00, -1.55731423e-01],\n",
       "       [ 5.73060598e-01, -4.49373169e-02],\n",
       "       [ 4.73671752e-01, -3.71436070e-02],\n",
       "       [ 2.90481480e-01, -2.27784956e-02],\n",
       "       [ 1.84952817e+00, -1.45033237e-01],\n",
       "       [ 4.26909493e-01, -3.34766816e-02],\n",
       "       [ 5.49679468e-01, -4.31038542e-02],\n",
       "       [ 1.59917795e-01, -1.25401688e-02],\n",
       "       [ 1.04662370e+00, -8.20724037e-02],\n",
       "       [ 8.47846005e-01, -6.64849839e-02],\n",
       "       [ 1.04662370e+00, -8.20724037e-02],\n",
       "       [-1.54787668e-02,  1.21378830e-03],\n",
       "       [ 9.39441141e-01, -7.36675395e-02],\n",
       "       [ 8.32258586e-01, -6.52626754e-02],\n",
       "       [ 8.55639715e-01, -6.70961381e-02],\n",
       "       [ 4.97052882e-01, -3.89770697e-02],\n",
       "       [ 6.56862024e-01, -5.15087183e-02],\n",
       "       [ 3.27520647e-01, -2.56829717e-02],\n",
       "       [ 6.05289493e-02, -4.74645890e-03]])"
      ]
     },
     "execution_count": 10,
     "metadata": {},
     "output_type": "execute_result"
    }
   ],
   "source": [
    "data_restored = data_transformed.dot(P_transformed)\n",
    "data_restored"
   ]
  },
  {
   "cell_type": "markdown",
   "metadata": {},
   "source": [
    "Add the means back to the transformed data"
   ]
  },
  {
   "cell_type": "code",
   "execution_count": 11,
   "metadata": {},
   "outputs": [],
   "source": [
    "data_restored += means"
   ]
  },
  {
   "cell_type": "markdown",
   "metadata": {},
   "source": [
    "Visualise the result"
   ]
  },
  {
   "cell_type": "code",
   "execution_count": 12,
   "metadata": {},
   "outputs": [
    {
     "data": {
      "image/png": "[encoded data removed]",
      "text/plain": [
       "<Figure size 720x504 with 1 Axes>"
      ]
     },
     "metadata": {
      "needs_background": "light"
     },
     "output_type": "display_data"
    }
   ],
   "source": [
    "plt.figure(figsize=(10, 7))\n",
    "plt.plot(data_restored[:,0], data_restored[:,1], linestyle=':', label='PCA restoration');\n",
    "plt.scatter(df['Sepal Length'], df['Sepal Width'], marker='*', label='Original');\n",
    "plt.legend();\n",
    "plt.xlabel('Sepal Length');\n",
    "plt.ylabel('Sepal Width');\n",
    "plt.title('Inverse transform after removing variance');"
   ]
  },
  {
   "cell_type": "markdown",
   "metadata": {},
   "source": [
    "There are only two components of variation in this dataset.  If we do not remove any of the components what is the result of the inverse transform?  Again transform the data into the lower dimensional space, but this time using all of the eigenvectors."
   ]
  },
  {
   "cell_type": "code",
   "execution_count": 13,
   "metadata": {},
   "outputs": [],
   "source": [
    "P = eigenvectors\n",
    "data_transformed = P.dot(data.T)"
   ]
  },
  {
   "cell_type": "markdown",
   "metadata": {},
   "source": [
    "Transpose *data_transformed* to put it into the correct shape for matrix mutliplication."
   ]
  },
  {
   "cell_type": "code",
   "execution_count": 14,
   "metadata": {},
   "outputs": [],
   "source": [
    "data_transformed = data_transformed.T"
   ]
  },
  {
   "cell_type": "markdown",
   "metadata": {},
   "source": [
    "Now restore the data back to the higher dimensional space"
   ]
  },
  {
   "cell_type": "code",
   "execution_count": 15,
   "metadata": {},
   "outputs": [
    {
     "data": {
      "text/plain": [
       "array([[-0.74333333,  0.446     ],\n",
       "       [-0.94333333, -0.054     ],\n",
       "       [-1.14333333,  0.146     ],\n",
       "       [-1.24333333,  0.046     ],\n",
       "       [-0.84333333,  0.546     ],\n",
       "       [-0.44333333,  0.846     ],\n",
       "       [-1.24333333,  0.346     ],\n",
       "       [-0.84333333,  0.346     ],\n",
       "       [-1.44333333, -0.154     ],\n",
       "       [-0.94333333,  0.046     ],\n",
       "       [-0.44333333,  0.646     ],\n",
       "       [-1.04333333,  0.346     ],\n",
       "       [-1.04333333, -0.054     ],\n",
       "       [-1.54333333, -0.054     ],\n",
       "       [-0.04333333,  0.946     ],\n",
       "       [-0.14333333,  1.346     ],\n",
       "       [-0.44333333,  0.846     ],\n",
       "       [-0.74333333,  0.446     ],\n",
       "       [-0.14333333,  0.746     ],\n",
       "       [-0.74333333,  0.746     ],\n",
       "       [-0.44333333,  0.346     ],\n",
       "       [-0.74333333,  0.646     ],\n",
       "       [-1.24333333,  0.546     ],\n",
       "       [-0.74333333,  0.246     ],\n",
       "       [-1.04333333,  0.346     ],\n",
       "       [-0.84333333, -0.054     ],\n",
       "       [-0.84333333,  0.346     ],\n",
       "       [-0.64333333,  0.446     ],\n",
       "       [-0.64333333,  0.346     ],\n",
       "       [-1.14333333,  0.146     ],\n",
       "       [-1.04333333,  0.046     ],\n",
       "       [-0.44333333,  0.346     ],\n",
       "       [-0.64333333,  1.046     ],\n",
       "       [-0.34333333,  1.146     ],\n",
       "       [-0.94333333,  0.046     ],\n",
       "       [-0.84333333,  0.146     ],\n",
       "       [-0.34333333,  0.446     ],\n",
       "       [-0.94333333,  0.046     ],\n",
       "       [-1.44333333, -0.054     ],\n",
       "       [-0.74333333,  0.346     ],\n",
       "       [-0.84333333,  0.446     ],\n",
       "       [-1.34333333, -0.754     ],\n",
       "       [-1.44333333,  0.146     ],\n",
       "       [-0.84333333,  0.446     ],\n",
       "       [-0.74333333,  0.746     ],\n",
       "       [-1.04333333, -0.054     ],\n",
       "       [-0.74333333,  0.746     ],\n",
       "       [-1.24333333,  0.146     ],\n",
       "       [-0.54333333,  0.646     ],\n",
       "       [-0.84333333,  0.246     ],\n",
       "       [ 1.15666667,  0.146     ],\n",
       "       [ 0.55666667,  0.146     ],\n",
       "       [ 1.05666667,  0.046     ],\n",
       "       [-0.34333333, -0.754     ],\n",
       "       [ 0.65666667, -0.254     ],\n",
       "       [-0.14333333, -0.254     ],\n",
       "       [ 0.45666667,  0.246     ],\n",
       "       [-0.94333333, -0.654     ],\n",
       "       [ 0.75666667, -0.154     ],\n",
       "       [-0.64333333, -0.354     ],\n",
       "       [-0.84333333, -1.054     ],\n",
       "       [ 0.05666667, -0.054     ],\n",
       "       [ 0.15666667, -0.854     ],\n",
       "       [ 0.25666667, -0.154     ],\n",
       "       [-0.24333333, -0.154     ],\n",
       "       [ 0.85666667,  0.046     ],\n",
       "       [-0.24333333, -0.054     ],\n",
       "       [-0.04333333, -0.354     ],\n",
       "       [ 0.35666667, -0.854     ],\n",
       "       [-0.24333333, -0.554     ],\n",
       "       [ 0.05666667,  0.146     ],\n",
       "       [ 0.25666667, -0.254     ],\n",
       "       [ 0.45666667, -0.554     ],\n",
       "       [ 0.25666667, -0.254     ],\n",
       "       [ 0.55666667, -0.154     ],\n",
       "       [ 0.75666667, -0.054     ],\n",
       "       [ 0.95666667, -0.254     ],\n",
       "       [ 0.85666667, -0.054     ],\n",
       "       [ 0.15666667, -0.154     ],\n",
       "       [-0.14333333, -0.454     ],\n",
       "       [-0.34333333, -0.654     ],\n",
       "       [-0.34333333, -0.654     ],\n",
       "       [-0.04333333, -0.354     ],\n",
       "       [ 0.15666667, -0.354     ],\n",
       "       [-0.44333333, -0.054     ],\n",
       "       [ 0.15666667,  0.346     ],\n",
       "       [ 0.85666667,  0.046     ],\n",
       "       [ 0.45666667, -0.754     ],\n",
       "       [-0.24333333, -0.054     ],\n",
       "       [-0.34333333, -0.554     ],\n",
       "       [-0.34333333, -0.454     ],\n",
       "       [ 0.25666667, -0.054     ],\n",
       "       [-0.04333333, -0.454     ],\n",
       "       [-0.84333333, -0.754     ],\n",
       "       [-0.24333333, -0.354     ],\n",
       "       [-0.14333333, -0.054     ],\n",
       "       [-0.14333333, -0.154     ],\n",
       "       [ 0.35666667, -0.154     ],\n",
       "       [-0.74333333, -0.554     ],\n",
       "       [-0.14333333, -0.254     ],\n",
       "       [ 0.45666667,  0.246     ],\n",
       "       [-0.04333333, -0.354     ],\n",
       "       [ 1.25666667, -0.054     ],\n",
       "       [ 0.45666667, -0.154     ],\n",
       "       [ 0.65666667, -0.054     ],\n",
       "       [ 1.75666667, -0.054     ],\n",
       "       [-0.94333333, -0.554     ],\n",
       "       [ 1.45666667, -0.154     ],\n",
       "       [ 0.85666667, -0.554     ],\n",
       "       [ 1.35666667,  0.546     ],\n",
       "       [ 0.65666667,  0.146     ],\n",
       "       [ 0.55666667, -0.354     ],\n",
       "       [ 0.95666667, -0.054     ],\n",
       "       [-0.14333333, -0.554     ],\n",
       "       [-0.04333333, -0.254     ],\n",
       "       [ 0.55666667,  0.146     ],\n",
       "       [ 0.65666667, -0.054     ],\n",
       "       [ 1.85666667,  0.746     ],\n",
       "       [ 1.85666667, -0.454     ],\n",
       "       [ 0.15666667, -0.854     ],\n",
       "       [ 1.05666667,  0.146     ],\n",
       "       [-0.24333333, -0.254     ],\n",
       "       [ 1.85666667, -0.254     ],\n",
       "       [ 0.45666667, -0.354     ],\n",
       "       [ 0.85666667,  0.246     ],\n",
       "       [ 1.35666667,  0.146     ],\n",
       "       [ 0.35666667, -0.254     ],\n",
       "       [ 0.25666667, -0.054     ],\n",
       "       [ 0.55666667, -0.254     ],\n",
       "       [ 1.35666667, -0.054     ],\n",
       "       [ 1.55666667, -0.254     ],\n",
       "       [ 2.05666667,  0.746     ],\n",
       "       [ 0.55666667, -0.254     ],\n",
       "       [ 0.45666667, -0.254     ],\n",
       "       [ 0.25666667, -0.454     ],\n",
       "       [ 1.85666667, -0.054     ],\n",
       "       [ 0.45666667,  0.346     ],\n",
       "       [ 0.55666667,  0.046     ],\n",
       "       [ 0.15666667, -0.054     ],\n",
       "       [ 1.05666667,  0.046     ],\n",
       "       [ 0.85666667,  0.046     ],\n",
       "       [ 1.05666667,  0.046     ],\n",
       "       [-0.04333333, -0.354     ],\n",
       "       [ 0.95666667,  0.146     ],\n",
       "       [ 0.85666667,  0.246     ],\n",
       "       [ 0.85666667, -0.054     ],\n",
       "       [ 0.45666667, -0.554     ],\n",
       "       [ 0.65666667, -0.054     ],\n",
       "       [ 0.35666667,  0.346     ],\n",
       "       [ 0.05666667, -0.054     ]])"
      ]
     },
     "execution_count": 15,
     "metadata": {},
     "output_type": "execute_result"
    }
   ],
   "source": [
    "data_restored = data_transformed.dot(P)\n",
    "data_restored"
   ]
  },
  {
   "cell_type": "markdown",
   "metadata": {},
   "source": [
    "Add the means back"
   ]
  },
  {
   "cell_type": "code",
   "execution_count": 16,
   "metadata": {},
   "outputs": [],
   "source": [
    "data_restored += means"
   ]
  },
  {
   "cell_type": "markdown",
   "metadata": {},
   "source": [
    "Visualise the restored data"
   ]
  },
  {
   "cell_type": "code",
   "execution_count": 17,
   "metadata": {},
   "outputs": [
    {
     "data": {
      "image/png": "[encoded data removed]",
      "text/plain": [
       "<Figure size 720x504 with 1 Axes>"
      ]
     },
     "metadata": {
      "needs_background": "light"
     },
     "output_type": "display_data"
    }
   ],
   "source": [
    "plt.figure(figsize=(10, 7))\n",
    "plt.scatter(data_restored[:,0], data_restored[:,1], marker='d', label='PCA restoration', c='k');\n",
    "plt.scatter(df['Sepal Length'], df['Sepal Width'], marker='o', label='Original', c='k');\n",
    "plt.legend();\n",
    "plt.xlabel('Sepal Length');\n",
    "plt.ylabel('Sepal Width');\n",
    "plt.title('Inverse transform after removing variance');"
   ]
  }
 ],
 "metadata": {
  "kernelspec": {
   "display_name": "Python 3",
   "language": "python",
   "name": "python3"
  },
  "language_info": {
   "codemirror_mode": {
    "name": "ipython",
    "version": 3
   },
   "file_extension": ".py",
   "mimetype": "text/x-python",
   "name": "python",
   "nbconvert_exporter": "python",
   "pygments_lexer": "ipython3",
   "version": "3.7.1"
  }
 },
 "nbformat": 4,
 "nbformat_minor": 2
}
