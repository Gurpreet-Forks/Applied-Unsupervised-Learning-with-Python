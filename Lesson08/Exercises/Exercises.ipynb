{
 "cells": [
  {
   "cell_type": "code",
   "execution_count": 1,
   "metadata": {},
   "outputs": [],
   "source": [
    "#EXERCISE 1\n",
    "import matplotlib.pyplot as plt\n",
    "import mlxtend.frequent_patterns\n",
    "import mlxtend.preprocessing\n",
    "import numpy\n",
    "import pandas"
   ]
  },
  {
   "cell_type": "code",
   "execution_count": 2,
   "metadata": {},
   "outputs": [],
   "source": [
    "example = [\n",
    "    ['milk', 'bread', 'apples', 'cereal', 'jelly', \n",
    "     'cookies', 'salad', 'tomatoes'],\n",
    "    ['beer', 'milk', 'chips', 'salsa', 'grapes', \n",
    "     'wine', 'potatoes', 'eggs', 'carrots'],\n",
    "    ['diapers', 'baby formula', 'milk', 'bread', \n",
    "     'chicken', 'asparagus', 'cookies'],\n",
    "    ['milk', 'cookies', 'chicken', 'asparagus', \n",
    "     'broccoli', 'cereal', 'orange juice'],\n",
    "    ['steak', 'asparagus', 'broccoli', 'chips', \n",
    "     'salsa', 'ketchup', 'potatoes', 'salad'],\n",
    "    ['beer', 'salsa', 'asparagus', 'wine', 'cheese', \n",
    "     'crackers', 'strawberries', 'cookies'],\n",
    "    ['chocolate cake', 'strawberries', 'wine', 'cheese', \n",
    "     'beer', 'milk', 'orange juice'],\n",
    "    ['chicken', 'peas', 'broccoli', 'milk', 'bread', \n",
    "     'eggs', 'potatoes', 'ketchup', 'crackers'],\n",
    "    ['eggs', 'bread', 'cheese', 'turkey', 'salad', \n",
    "     'tomatoes', 'wine', 'steak', 'carrots'],\n",
    "    ['bread', 'milk', 'tomatoes', 'cereal', 'chicken', \n",
    "     'turkey', 'chips', 'salsa', 'diapers']\n",
    "]"
   ]
  },
  {
   "cell_type": "code",
   "execution_count": 3,
   "metadata": {},
   "outputs": [
    {
     "name": "stdout",
     "output_type": "stream",
     "text": [
      "N = 10\n",
      "Freq(x) = 7\n",
      "Freq(y) = 5\n",
      "Freq(x, y) = 4\n"
     ]
    }
   ],
   "source": [
    "#EXERCISE 2\n",
    "N = len(example)\n",
    "f_x = sum(['milk' in i for i in example]) # milk\n",
    "f_y = sum(['bread' in i for i in example]) # bread\n",
    "f_x_y = sum([\n",
    "    all(w in i for w in ['milk', 'bread']) \n",
    "    for i in example\n",
    "])\n",
    "\n",
    "print(\n",
    "    \"N = {}\\n\".format(N) + \n",
    "    \"Freq(x) = {}\\n\".format(f_x) + \n",
    "    \"Freq(y) = {}\\n\".format(f_y) + \n",
    "    \"Freq(x, y) = {}\".format(f_x_y)\n",
    ")"
   ]
  },
  {
   "cell_type": "code",
   "execution_count": 4,
   "metadata": {},
   "outputs": [
    {
     "name": "stdout",
     "output_type": "stream",
     "text": [
      "Support = 0.4\n"
     ]
    }
   ],
   "source": [
    "support = f_x_y / N\n",
    "print(\"Support = {}\".format(round(support, 4)))"
   ]
  },
  {
   "cell_type": "code",
   "execution_count": 5,
   "metadata": {},
   "outputs": [
    {
     "name": "stdout",
     "output_type": "stream",
     "text": [
      "Confidence = 0.5714\n"
     ]
    }
   ],
   "source": [
    "confidence = support / (f_x / N)\n",
    "print(\"Confidence = {}\".format(round(confidence, 4)))"
   ]
  },
  {
   "cell_type": "code",
   "execution_count": 6,
   "metadata": {},
   "outputs": [
    {
     "name": "stdout",
     "output_type": "stream",
     "text": [
      "Lift = 1.1429\n"
     ]
    }
   ],
   "source": [
    "lift = confidence / (f_y / N)\n",
    "print(\"Lift = {}\".format(round(lift, 4)))"
   ]
  },
  {
   "cell_type": "code",
   "execution_count": 7,
   "metadata": {},
   "outputs": [
    {
     "name": "stdout",
     "output_type": "stream",
     "text": [
      "Leverage = 0.05\n"
     ]
    }
   ],
   "source": [
    "leverage = support - ((f_x / N) * (f_y / N))\n",
    "print(\"Leverage = {}\".format(round(leverage, 4)))"
   ]
  },
  {
   "cell_type": "code",
   "execution_count": 8,
   "metadata": {},
   "outputs": [
    {
     "name": "stdout",
     "output_type": "stream",
     "text": [
      "Conviction = 1.1667\n"
     ]
    }
   ],
   "source": [
    "conviction = (1 - (f_y / N)) / (1 - confidence)\n",
    "print(\"Conviction = {}\".format(round(conviction, 4)))"
   ]
  },
  {
   "cell_type": "code",
   "execution_count": 9,
   "metadata": {},
   "outputs": [],
   "source": [
    "#EXERCISE 3\n",
    "online = pandas.read_excel(\n",
    "    io=\"Online Retail.xlsx\", \n",
    "    sheet_name=\"Online Retail\", header=0\n",
    ")"
   ]
  },
  {
   "cell_type": "code",
   "execution_count": 10,
   "metadata": {},
   "outputs": [
    {
     "data": {
      "text/html": [
       "<div>\n",
       "<style scoped>\n",
       "    .dataframe tbody tr th:only-of-type {\n",
       "        vertical-align: middle;\n",
       "    }\n",
       "\n",
       "    .dataframe tbody tr th {\n",
       "        vertical-align: top;\n",
       "    }\n",
       "\n",
       "    .dataframe thead th {\n",
       "        text-align: right;\n",
       "    }\n",
       "</style>\n",
       "<table border=\"1\" class=\"dataframe\">\n",
       "  <thead>\n",
       "    <tr style=\"text-align: right;\">\n",
       "      <th></th>\n",
       "      <th>InvoiceNo</th>\n",
       "      <th>StockCode</th>\n",
       "      <th>Description</th>\n",
       "      <th>Quantity</th>\n",
       "      <th>InvoiceDate</th>\n",
       "      <th>UnitPrice</th>\n",
       "      <th>CustomerID</th>\n",
       "      <th>Country</th>\n",
       "    </tr>\n",
       "  </thead>\n",
       "  <tbody>\n",
       "    <tr>\n",
       "      <th>0</th>\n",
       "      <td>536365</td>\n",
       "      <td>85123A</td>\n",
       "      <td>WHITE HANGING HEART T-LIGHT HOLDER</td>\n",
       "      <td>6</td>\n",
       "      <td>2010-12-01 08:26:00</td>\n",
       "      <td>2.55</td>\n",
       "      <td>17850.0</td>\n",
       "      <td>United Kingdom</td>\n",
       "    </tr>\n",
       "    <tr>\n",
       "      <th>1</th>\n",
       "      <td>536365</td>\n",
       "      <td>71053</td>\n",
       "      <td>WHITE METAL LANTERN</td>\n",
       "      <td>6</td>\n",
       "      <td>2010-12-01 08:26:00</td>\n",
       "      <td>3.39</td>\n",
       "      <td>17850.0</td>\n",
       "      <td>United Kingdom</td>\n",
       "    </tr>\n",
       "    <tr>\n",
       "      <th>2</th>\n",
       "      <td>536365</td>\n",
       "      <td>84406B</td>\n",
       "      <td>CREAM CUPID HEARTS COAT HANGER</td>\n",
       "      <td>8</td>\n",
       "      <td>2010-12-01 08:26:00</td>\n",
       "      <td>2.75</td>\n",
       "      <td>17850.0</td>\n",
       "      <td>United Kingdom</td>\n",
       "    </tr>\n",
       "    <tr>\n",
       "      <th>3</th>\n",
       "      <td>536365</td>\n",
       "      <td>84029G</td>\n",
       "      <td>KNITTED UNION FLAG HOT WATER BOTTLE</td>\n",
       "      <td>6</td>\n",
       "      <td>2010-12-01 08:26:00</td>\n",
       "      <td>3.39</td>\n",
       "      <td>17850.0</td>\n",
       "      <td>United Kingdom</td>\n",
       "    </tr>\n",
       "    <tr>\n",
       "      <th>4</th>\n",
       "      <td>536365</td>\n",
       "      <td>84029E</td>\n",
       "      <td>RED WOOLLY HOTTIE WHITE HEART.</td>\n",
       "      <td>6</td>\n",
       "      <td>2010-12-01 08:26:00</td>\n",
       "      <td>3.39</td>\n",
       "      <td>17850.0</td>\n",
       "      <td>United Kingdom</td>\n",
       "    </tr>\n",
       "    <tr>\n",
       "      <th>5</th>\n",
       "      <td>536365</td>\n",
       "      <td>22752</td>\n",
       "      <td>SET 7 BABUSHKA NESTING BOXES</td>\n",
       "      <td>2</td>\n",
       "      <td>2010-12-01 08:26:00</td>\n",
       "      <td>7.65</td>\n",
       "      <td>17850.0</td>\n",
       "      <td>United Kingdom</td>\n",
       "    </tr>\n",
       "    <tr>\n",
       "      <th>6</th>\n",
       "      <td>536365</td>\n",
       "      <td>21730</td>\n",
       "      <td>GLASS STAR FROSTED T-LIGHT HOLDER</td>\n",
       "      <td>6</td>\n",
       "      <td>2010-12-01 08:26:00</td>\n",
       "      <td>4.25</td>\n",
       "      <td>17850.0</td>\n",
       "      <td>United Kingdom</td>\n",
       "    </tr>\n",
       "    <tr>\n",
       "      <th>7</th>\n",
       "      <td>536366</td>\n",
       "      <td>22633</td>\n",
       "      <td>HAND WARMER UNION JACK</td>\n",
       "      <td>6</td>\n",
       "      <td>2010-12-01 08:28:00</td>\n",
       "      <td>1.85</td>\n",
       "      <td>17850.0</td>\n",
       "      <td>United Kingdom</td>\n",
       "    </tr>\n",
       "    <tr>\n",
       "      <th>8</th>\n",
       "      <td>536366</td>\n",
       "      <td>22632</td>\n",
       "      <td>HAND WARMER RED POLKA DOT</td>\n",
       "      <td>6</td>\n",
       "      <td>2010-12-01 08:28:00</td>\n",
       "      <td>1.85</td>\n",
       "      <td>17850.0</td>\n",
       "      <td>United Kingdom</td>\n",
       "    </tr>\n",
       "    <tr>\n",
       "      <th>9</th>\n",
       "      <td>536367</td>\n",
       "      <td>84879</td>\n",
       "      <td>ASSORTED COLOUR BIRD ORNAMENT</td>\n",
       "      <td>32</td>\n",
       "      <td>2010-12-01 08:34:00</td>\n",
       "      <td>1.69</td>\n",
       "      <td>13047.0</td>\n",
       "      <td>United Kingdom</td>\n",
       "    </tr>\n",
       "  </tbody>\n",
       "</table>\n",
       "</div>"
      ],
      "text/plain": [
       "  InvoiceNo StockCode                          Description  Quantity  \\\n",
       "0    536365    85123A   WHITE HANGING HEART T-LIGHT HOLDER         6   \n",
       "1    536365     71053                  WHITE METAL LANTERN         6   \n",
       "2    536365    84406B       CREAM CUPID HEARTS COAT HANGER         8   \n",
       "3    536365    84029G  KNITTED UNION FLAG HOT WATER BOTTLE         6   \n",
       "4    536365    84029E       RED WOOLLY HOTTIE WHITE HEART.         6   \n",
       "5    536365     22752         SET 7 BABUSHKA NESTING BOXES         2   \n",
       "6    536365     21730    GLASS STAR FROSTED T-LIGHT HOLDER         6   \n",
       "7    536366     22633               HAND WARMER UNION JACK         6   \n",
       "8    536366     22632            HAND WARMER RED POLKA DOT         6   \n",
       "9    536367     84879        ASSORTED COLOUR BIRD ORNAMENT        32   \n",
       "\n",
       "          InvoiceDate  UnitPrice  CustomerID         Country  \n",
       "0 2010-12-01 08:26:00       2.55     17850.0  United Kingdom  \n",
       "1 2010-12-01 08:26:00       3.39     17850.0  United Kingdom  \n",
       "2 2010-12-01 08:26:00       2.75     17850.0  United Kingdom  \n",
       "3 2010-12-01 08:26:00       3.39     17850.0  United Kingdom  \n",
       "4 2010-12-01 08:26:00       3.39     17850.0  United Kingdom  \n",
       "5 2010-12-01 08:26:00       7.65     17850.0  United Kingdom  \n",
       "6 2010-12-01 08:26:00       4.25     17850.0  United Kingdom  \n",
       "7 2010-12-01 08:28:00       1.85     17850.0  United Kingdom  \n",
       "8 2010-12-01 08:28:00       1.85     17850.0  United Kingdom  \n",
       "9 2010-12-01 08:34:00       1.69     13047.0  United Kingdom  "
      ]
     },
     "execution_count": 10,
     "metadata": {},
     "output_type": "execute_result"
    }
   ],
   "source": [
    "online.head(10)"
   ]
  },
  {
   "cell_type": "code",
   "execution_count": 11,
   "metadata": {},
   "outputs": [
    {
     "data": {
      "text/plain": [
       "InvoiceNo              object\n",
       "StockCode              object\n",
       "Description            object\n",
       "Quantity                int64\n",
       "InvoiceDate    datetime64[ns]\n",
       "UnitPrice             float64\n",
       "CustomerID            float64\n",
       "Country                object\n",
       "dtype: object"
      ]
     },
     "execution_count": 11,
     "metadata": {},
     "output_type": "execute_result"
    }
   ],
   "source": [
    "online.dtypes"
   ]
  },
  {
   "cell_type": "code",
   "execution_count": 12,
   "metadata": {},
   "outputs": [
    {
     "name": "stdout",
     "output_type": "stream",
     "text": [
      "Data dimension (row count, col count): (541909, 8)\n",
      "Count of unique invoice numbers: 25900\n",
      "Count of unique customer ids: 4372\n"
     ]
    }
   ],
   "source": [
    "print(\n",
    "\"Data dimension (row count, col count): {dim}\"\n",
    ".format(dim=online.shape)\n",
    ")\n",
    "print(\n",
    "\"Count of unique invoice numbers: {cnt}\"\n",
    ".format(cnt=online.InvoiceNo.nunique())\n",
    ")\n",
    "print(\n",
    "\"Count of unique customer ids: {cnt}\"\n",
    ".format(cnt=online.CustomerID.nunique())\n",
    ")"
   ]
  },
  {
   "cell_type": "code",
   "execution_count": 13,
   "metadata": {},
   "outputs": [],
   "source": [
    "#EXERCISE 4\n",
    "online['IsCPresent'] = (\n",
    "    online['InvoiceNo']\n",
    "    .astype(str)\n",
    "    .apply(lambda x: 1 if x.find('C') != -1 else 0)\n",
    ")"
   ]
  },
  {
   "cell_type": "code",
   "execution_count": 14,
   "metadata": {},
   "outputs": [],
   "source": [
    "online1 = (\n",
    "    online\n",
    "    # filter out non-positive quantity values\n",
    "    .loc[online[\"Quantity\"] > 0]\n",
    "    # remove InvoiceNos starting with C\n",
    "    .loc[online['IsCPresent'] != 1]\n",
    "    # column filtering\n",
    "    .loc[:, [\"InvoiceNo\", \"Description\"]]\n",
    "    # dropping all rows with at least one missing value\n",
    "    .dropna()\n",
    ")"
   ]
  },
  {
   "cell_type": "code",
   "execution_count": 15,
   "metadata": {},
   "outputs": [
    {
     "data": {
      "text/html": [
       "<div>\n",
       "<style scoped>\n",
       "    .dataframe tbody tr th:only-of-type {\n",
       "        vertical-align: middle;\n",
       "    }\n",
       "\n",
       "    .dataframe tbody tr th {\n",
       "        vertical-align: top;\n",
       "    }\n",
       "\n",
       "    .dataframe thead th {\n",
       "        text-align: right;\n",
       "    }\n",
       "</style>\n",
       "<table border=\"1\" class=\"dataframe\">\n",
       "  <thead>\n",
       "    <tr style=\"text-align: right;\">\n",
       "      <th></th>\n",
       "      <th>InvoiceNo</th>\n",
       "      <th>Description</th>\n",
       "    </tr>\n",
       "  </thead>\n",
       "  <tbody>\n",
       "    <tr>\n",
       "      <th>0</th>\n",
       "      <td>536365</td>\n",
       "      <td>WHITE HANGING HEART T-LIGHT HOLDER</td>\n",
       "    </tr>\n",
       "    <tr>\n",
       "      <th>1</th>\n",
       "      <td>536365</td>\n",
       "      <td>WHITE METAL LANTERN</td>\n",
       "    </tr>\n",
       "    <tr>\n",
       "      <th>2</th>\n",
       "      <td>536365</td>\n",
       "      <td>CREAM CUPID HEARTS COAT HANGER</td>\n",
       "    </tr>\n",
       "    <tr>\n",
       "      <th>3</th>\n",
       "      <td>536365</td>\n",
       "      <td>KNITTED UNION FLAG HOT WATER BOTTLE</td>\n",
       "    </tr>\n",
       "    <tr>\n",
       "      <th>4</th>\n",
       "      <td>536365</td>\n",
       "      <td>RED WOOLLY HOTTIE WHITE HEART.</td>\n",
       "    </tr>\n",
       "    <tr>\n",
       "      <th>5</th>\n",
       "      <td>536365</td>\n",
       "      <td>SET 7 BABUSHKA NESTING BOXES</td>\n",
       "    </tr>\n",
       "    <tr>\n",
       "      <th>6</th>\n",
       "      <td>536365</td>\n",
       "      <td>GLASS STAR FROSTED T-LIGHT HOLDER</td>\n",
       "    </tr>\n",
       "    <tr>\n",
       "      <th>7</th>\n",
       "      <td>536366</td>\n",
       "      <td>HAND WARMER UNION JACK</td>\n",
       "    </tr>\n",
       "    <tr>\n",
       "      <th>8</th>\n",
       "      <td>536366</td>\n",
       "      <td>HAND WARMER RED POLKA DOT</td>\n",
       "    </tr>\n",
       "    <tr>\n",
       "      <th>9</th>\n",
       "      <td>536367</td>\n",
       "      <td>ASSORTED COLOUR BIRD ORNAMENT</td>\n",
       "    </tr>\n",
       "  </tbody>\n",
       "</table>\n",
       "</div>"
      ],
      "text/plain": [
       "  InvoiceNo                          Description\n",
       "0    536365   WHITE HANGING HEART T-LIGHT HOLDER\n",
       "1    536365                  WHITE METAL LANTERN\n",
       "2    536365       CREAM CUPID HEARTS COAT HANGER\n",
       "3    536365  KNITTED UNION FLAG HOT WATER BOTTLE\n",
       "4    536365       RED WOOLLY HOTTIE WHITE HEART.\n",
       "5    536365         SET 7 BABUSHKA NESTING BOXES\n",
       "6    536365    GLASS STAR FROSTED T-LIGHT HOLDER\n",
       "7    536366               HAND WARMER UNION JACK\n",
       "8    536366            HAND WARMER RED POLKA DOT\n",
       "9    536367        ASSORTED COLOUR BIRD ORNAMENT"
      ]
     },
     "execution_count": 15,
     "metadata": {},
     "output_type": "execute_result"
    }
   ],
   "source": [
    "online1.head(10)"
   ]
  },
  {
   "cell_type": "code",
   "execution_count": 16,
   "metadata": {},
   "outputs": [
    {
     "name": "stdout",
     "output_type": "stream",
     "text": [
      "Data dimension (row count, col count): (530693, 2)\n",
      "Count of unique invoice numbers: 20136\n"
     ]
    }
   ],
   "source": [
    "print(\n",
    "    \"Data dimension (row count, col count): {dim}\"\n",
    "    .format(dim=online1.shape)\n",
    ")\n",
    "print(\n",
    "    \"Count of unique invoice numbers: {cnt}\"\n",
    "    .format(cnt=online1.InvoiceNo.nunique())\n",
    ")\n"
   ]
  },
  {
   "cell_type": "code",
   "execution_count": 17,
   "metadata": {},
   "outputs": [
    {
     "name": "stdout",
     "output_type": "stream",
     "text": [
      "Length of list of invoice numbers: 20136\n"
     ]
    }
   ],
   "source": [
    "invoice_no_list = online1.InvoiceNo.tolist()\n",
    "invoice_no_list = list(set(invoice_no_list))\n",
    "print(\n",
    "    \"Length of list of invoice numbers: {ln}\"\n",
    "    .format(ln=len(invoice_no_list))\n",
    ")"
   ]
  },
  {
   "cell_type": "code",
   "execution_count": 18,
   "metadata": {},
   "outputs": [
    {
     "name": "stdout",
     "output_type": "stream",
     "text": [
      "Length of subset list of invoice numbers: 5000\n"
     ]
    }
   ],
   "source": [
    "subset_invoice_no_list = invoice_no_list[0:5000]\n",
    "print(\n",
    "    \"Length of subset list of invoice numbers: {ln}\"\n",
    "    .format(ln=len(subset_invoice_no_list))\n",
    ")"
   ]
  },
  {
   "cell_type": "code",
   "execution_count": 19,
   "metadata": {},
   "outputs": [],
   "source": [
    "online1 = online1.loc[online1[\"InvoiceNo\"].isin(subset_invoice_no_list)]"
   ]
  },
  {
   "cell_type": "code",
   "execution_count": 20,
   "metadata": {},
   "outputs": [
    {
     "data": {
      "text/html": [
       "<div>\n",
       "<style scoped>\n",
       "    .dataframe tbody tr th:only-of-type {\n",
       "        vertical-align: middle;\n",
       "    }\n",
       "\n",
       "    .dataframe tbody tr th {\n",
       "        vertical-align: top;\n",
       "    }\n",
       "\n",
       "    .dataframe thead th {\n",
       "        text-align: right;\n",
       "    }\n",
       "</style>\n",
       "<table border=\"1\" class=\"dataframe\">\n",
       "  <thead>\n",
       "    <tr style=\"text-align: right;\">\n",
       "      <th></th>\n",
       "      <th>InvoiceNo</th>\n",
       "      <th>Description</th>\n",
       "    </tr>\n",
       "  </thead>\n",
       "  <tbody>\n",
       "    <tr>\n",
       "      <th>229435</th>\n",
       "      <td>557056</td>\n",
       "      <td>SET OF 4 KNICK KNACK TINS DOILEY</td>\n",
       "    </tr>\n",
       "    <tr>\n",
       "      <th>229436</th>\n",
       "      <td>557057</td>\n",
       "      <td>RED POLKADOT BEAKER</td>\n",
       "    </tr>\n",
       "    <tr>\n",
       "      <th>229437</th>\n",
       "      <td>557057</td>\n",
       "      <td>BLUE POLKADOT BEAKER</td>\n",
       "    </tr>\n",
       "    <tr>\n",
       "      <th>229438</th>\n",
       "      <td>557057</td>\n",
       "      <td>DAIRY MAID TOASTRACK</td>\n",
       "    </tr>\n",
       "    <tr>\n",
       "      <th>229439</th>\n",
       "      <td>557057</td>\n",
       "      <td>BLUE EGG  SPOON</td>\n",
       "    </tr>\n",
       "    <tr>\n",
       "      <th>229440</th>\n",
       "      <td>557057</td>\n",
       "      <td>RED  EGG  SPOON</td>\n",
       "    </tr>\n",
       "    <tr>\n",
       "      <th>229441</th>\n",
       "      <td>557057</td>\n",
       "      <td>MODERN FLORAL STATIONERY SET</td>\n",
       "    </tr>\n",
       "    <tr>\n",
       "      <th>229442</th>\n",
       "      <td>557057</td>\n",
       "      <td>FLORAL FOLK STATIONERY SET</td>\n",
       "    </tr>\n",
       "    <tr>\n",
       "      <th>229443</th>\n",
       "      <td>557057</td>\n",
       "      <td>CERAMIC BOWL WITH LOVE HEART DESIGN</td>\n",
       "    </tr>\n",
       "    <tr>\n",
       "      <th>229444</th>\n",
       "      <td>557057</td>\n",
       "      <td>WOOD STAMP SET THANK YOU</td>\n",
       "    </tr>\n",
       "  </tbody>\n",
       "</table>\n",
       "</div>"
      ],
      "text/plain": [
       "       InvoiceNo                          Description\n",
       "229435    557056    SET OF 4 KNICK KNACK TINS DOILEY \n",
       "229436    557057                 RED POLKADOT BEAKER \n",
       "229437    557057                BLUE POLKADOT BEAKER \n",
       "229438    557057                 DAIRY MAID TOASTRACK\n",
       "229439    557057                      BLUE EGG  SPOON\n",
       "229440    557057                      RED  EGG  SPOON\n",
       "229441    557057         MODERN FLORAL STATIONERY SET\n",
       "229442    557057           FLORAL FOLK STATIONERY SET\n",
       "229443    557057  CERAMIC BOWL WITH LOVE HEART DESIGN\n",
       "229444    557057             WOOD STAMP SET THANK YOU"
      ]
     },
     "execution_count": 20,
     "metadata": {},
     "output_type": "execute_result"
    }
   ],
   "source": [
    "online1.head(10)"
   ]
  },
  {
   "cell_type": "code",
   "execution_count": 21,
   "metadata": {},
   "outputs": [
    {
     "name": "stdout",
     "output_type": "stream",
     "text": [
      "Data dimension (row count, col count): (129769, 2)\n",
      "Count of unique invoice numbers: 5000\n"
     ]
    }
   ],
   "source": [
    "print(\n",
    "    \"Data dimension (row count, col count): {dim}\"\n",
    "    .format(dim=online1.shape)\n",
    ")\n",
    "print(\n",
    "    \"Count of unique invoice numbers: {cnt}\"\n",
    "    .format(cnt=online1.InvoiceNo.nunique())\n",
    ")\n"
   ]
  },
  {
   "cell_type": "code",
   "execution_count": 22,
   "metadata": {},
   "outputs": [
    {
     "name": "stdout",
     "output_type": "stream",
     "text": [
      "[['RED POLKADOT BEAKER ', 'BLUE POLKADOT BEAKER ', 'DAIRY MAID TOASTRACK', 'BLUE EGG  SPOON', 'RED  EGG  SPOON', 'MODERN FLORAL STATIONERY SET', 'FLORAL FOLK STATIONERY SET', 'CERAMIC BOWL WITH LOVE HEART DESIGN', 'WOOD STAMP SET THANK YOU', 'WOOD STAMP SET HAPPY BIRTHDAY', 'PENS ASSORTED SPACEBALL', 'PENS ASSORTED FUNNY FACE', 'PENS ASSORTED FUNKY JEWELED ', 'SCOTTIE DOGS BABY BIB', 'CHARLIE AND LOLA TABLE TINS', 'CHARLIE & LOLA WASTEPAPER BIN FLORA', 'CHARLIE & LOLA WASTEPAPER BIN BLUE', 'CHARLIE AND LOLA FIGURES TINS', 'TV DINNER TRAY DOLLY GIRL', 'SET/20 RED RETROSPOT PAPER NAPKINS ', 'MINT KITCHEN SCALES', 'RED KITCHEN SCALES', '36 FOIL HEART CAKE CASES', '36 FOIL STAR CAKE CASES ', 'ILLUSTRATED CAT BOWL ', 'POTTING SHED TEA MUG', 'CERAMIC STRAWBERRY DESIGN MUG', 'RED RETROSPOT SHOPPER BAG', 'BUTTON BOX ', 'MINI CAKE STAND  HANGING STRAWBERY', 'LUNCH BAG DOILEY PATTERN ', 'JUMBO BAG STRAWBERRY', 'STRAWBERRY SHOPPER BAG', 'SUKI  SHOULDER BAG', 'JUMBO BAG ALPHABET', 'SKULL SHOULDER BAG', 'LUNCH BAG  BLACK SKULL.', 'TRADITIONAL WOODEN CATCH CUP GAME ', '10 COLOUR SPACEBOY PEN', 'JUMBO BAG SPACEBOY DESIGN', 'LUNCH BAG SPACEBOY DESIGN ', \"CHILDREN'S APRON DOLLY GIRL \", 'LUNCH BAG DOLLY GIRL DESIGN', 'TEATIME ROUND PENCIL SHARPENER ', 'SILVER HEARTS TABLE DECORATION', 'PARISIENNE KEY CABINET ', 'PARISIENNE JEWELLERY DRAWER ', 'BUNDLE OF 3 SCHOOL EXERCISE BOOKS  ', 'JUMBO BAG DOILEY PATTERNS', 'DOILEY STORAGE TIN', 'SET OF 4 KNICK KNACK TINS POPPIES', 'SET OF 4 KNICK KNACK TINS DOILEY ', 'SET OF 3 REGENCY CAKE TINS', 'SET OF 3 WOODEN HEART DECORATIONS', 'SPACEBOY CHILDRENS BOWL', 'DOLLY GIRL CHILDRENS CUP', 'DOLLY GIRL CHILDRENS BOWL', 'SPACE BOY CHILDRENS CUP', 'GARDENERS KNEELING PAD CUP OF TEA ', 'GARDENERS KNEELING PAD KEEP CALM ', 'CARTOON  PENCIL SHARPENERS', 'POPART RECT PENCIL SHARPENER ASST', 'PIECE OF CAMO STATIONERY SET', 'POPART WOODEN PENCILS ASST', 'ORIGAMI VANILLA INCENSE/CANDLE SET ', 'ORIGAMI JASMINE INCENSE/CANDLE SET', 'FRENCH FLORAL CUSHION COVER ', 'FRENCH LATTICE CUSHION COVER '], ['SET OF TEA COFFEE SUGAR TINS PANTRY', 'SET OF 3 CAKE TINS PANTRY DESIGN '], ['JUMBO BAG PINK VINTAGE PAISLEY', 'JUMBO  BAG BAROQUE BLACK WHITE', 'RIBBON REEL STRIPES DESIGN ', 'RIBBON REEL LACE DESIGN ', 'RIBBON REEL POLKADOTS ', 'TRAVEL CARD WALLET TRANSPORT', 'TRAVEL CARD WALLET FLOWER MEADOW', 'TRAVEL CARD WALLET VINTAGE LEAF', 'TRAVEL CARD WALLET VINTAGE TICKET', 'VINTAGE  2 METER FOLDING RULER', 'IVORY WICKER HEART LARGE', 'BUNDLE OF 3 ALPHABET EXERCISE BOOKS', 'BUNDLE OF 3 RETRO NOTE BOOKS', '20 DOLLY PEGS RETROSPOT', 'CLOTHES PEGS RETROSPOT PACK 24 ', 'VICTORIAN  METAL POSTCARD SPRING', 'ROLL WRAP VINTAGE CHRISTMAS', 'ROLL WRAP VINTAGE SPOT ', 'ENAMEL MEASURING JUG CREAM', 'JUMBO BAG VINTAGE CHRISTMAS ', \"JUMBO BAG 50'S CHRISTMAS \", 'SET OF 4 KNICK KNACK TINS DOILY ', 'SET OF 4 KNICK KNACK TINS POPPIES', 'IVORY WICKER HEART LARGE', 'JINGLE BELL HEART ANTIQUE GOLD', 'SET OF 4 NAPKIN CHARMS CUTLERY', 'SET OF 4 NAPKIN CHARMS HEARTS', 'SET OF 4 KNICK KNACK TINS LEAF', 'MADRAS NOTEBOOK MEDIUM', 'SET OF 3 WOODEN HEART DECORATIONS', 'FAMILY ALBUM WHITE PICTURE FRAME', 'REX CASH+CARRY JUMBO SHOPPER'], ['COFFEE MUG PEARS  DESIGN', 'TRAVEL CARD WALLET VINTAGE TICKET', 'AIRLINE BAG VINTAGE JET SET RED', 'AIRLINE BAG VINTAGE JET SET WHITE', 'GREY HEART HOT WATER BOTTLE', 'LOVE HOT WATER BOTTLE', 'TRAVEL CARD WALLET I LOVE LONDON', 'KNITTED UNION FLAG HOT WATER BOTTLE', 'HOT WATER BOTTLE I AM SO POORLY', 'AIRLINE BAG VINTAGE WORLD CHAMPION ', 'AIRLINE BAG VINTAGE TOKYO 78', 'HOT WATER BOTTLE TEA AND SYMPATHY', 'BLUE PAISLEY POCKET BOOK', 'ABSTRACT CIRCLES POCKET BOOK', 'HAND WARMER RED RETROSPOT', 'PLASTERS IN TIN WOODLAND ANIMALS', 'PLASTERS IN TIN VINTAGE PAISLEY ', 'HAND WARMER SCOTTY DOG DESIGN', 'HAND WARMER BIRD DESIGN', 'PLASTERS IN TIN STRONGMAN', 'PLASTERS IN TIN CIRCUS PARADE ']]\n"
     ]
    }
   ],
   "source": [
    "invoice_item_list = []\n",
    "for num in list(set(online1.InvoiceNo.tolist())):\n",
    "    # filter data set down to one invoice number\n",
    "    tmp_df = online1.loc[online1['InvoiceNo'] == num]\n",
    "    # extract item descriptions and convert to list\n",
    "    tmp_items = tmp_df.Description.tolist()\n",
    "    # append list invoice_item_list\n",
    "    invoice_item_list.append(tmp_items)\n",
    "    \n",
    "print(invoice_item_list[1:5])"
   ]
  },
  {
   "cell_type": "code",
   "execution_count": 23,
   "metadata": {},
   "outputs": [
    {
     "name": "stdout",
     "output_type": "stream",
     "text": [
      "[[False False False ... False False False]\n",
      " [False False False ... False False False]\n",
      " [False False False ... False False False]\n",
      " ...\n",
      " [False False False ... False False False]\n",
      " [False False False ... False False False]\n",
      " [False False False ... False False False]]\n"
     ]
    }
   ],
   "source": [
    "#EXERCISE 5\n",
    "online_encoder = mlxtend.preprocessing.TransactionEncoder()\n",
    "online_encoder_array = online_encoder.fit_transform(invoice_item_list)\n",
    "print(online_encoder_array)"
   ]
  },
  {
   "cell_type": "code",
   "execution_count": 24,
   "metadata": {},
   "outputs": [
    {
     "data": {
      "text/html": [
       "<div>\n",
       "<style scoped>\n",
       "    .dataframe tbody tr th:only-of-type {\n",
       "        vertical-align: middle;\n",
       "    }\n",
       "\n",
       "    .dataframe tbody tr th {\n",
       "        vertical-align: top;\n",
       "    }\n",
       "\n",
       "    .dataframe thead th {\n",
       "        text-align: right;\n",
       "    }\n",
       "</style>\n",
       "<table border=\"1\" class=\"dataframe\">\n",
       "  <thead>\n",
       "    <tr style=\"text-align: right;\">\n",
       "      <th></th>\n",
       "      <th>4 PURPLE FLOCK DINNER CANDLES</th>\n",
       "      <th>50'S CHRISTMAS GIFT BAG LARGE</th>\n",
       "      <th>DOLLY GIRL BEAKER</th>\n",
       "      <th>I LOVE LONDON MINI BACKPACK</th>\n",
       "      <th>NINE DRAWER OFFICE TIDY</th>\n",
       "      <th>OVAL WALL MIRROR DIAMANTE</th>\n",
       "      <th>RED SPOT GIFT BAG LARGE</th>\n",
       "      <th>SET 2 TEA TOWELS I LOVE LONDON</th>\n",
       "    </tr>\n",
       "  </thead>\n",
       "  <tbody>\n",
       "    <tr>\n",
       "      <th>4970</th>\n",
       "      <td>False</td>\n",
       "      <td>False</td>\n",
       "      <td>False</td>\n",
       "      <td>False</td>\n",
       "      <td>False</td>\n",
       "      <td>False</td>\n",
       "      <td>False</td>\n",
       "      <td>False</td>\n",
       "    </tr>\n",
       "    <tr>\n",
       "      <th>4971</th>\n",
       "      <td>False</td>\n",
       "      <td>False</td>\n",
       "      <td>True</td>\n",
       "      <td>False</td>\n",
       "      <td>False</td>\n",
       "      <td>False</td>\n",
       "      <td>False</td>\n",
       "      <td>False</td>\n",
       "    </tr>\n",
       "    <tr>\n",
       "      <th>4972</th>\n",
       "      <td>False</td>\n",
       "      <td>False</td>\n",
       "      <td>False</td>\n",
       "      <td>False</td>\n",
       "      <td>False</td>\n",
       "      <td>False</td>\n",
       "      <td>False</td>\n",
       "      <td>False</td>\n",
       "    </tr>\n",
       "    <tr>\n",
       "      <th>4973</th>\n",
       "      <td>False</td>\n",
       "      <td>False</td>\n",
       "      <td>False</td>\n",
       "      <td>False</td>\n",
       "      <td>False</td>\n",
       "      <td>False</td>\n",
       "      <td>False</td>\n",
       "      <td>False</td>\n",
       "    </tr>\n",
       "    <tr>\n",
       "      <th>4974</th>\n",
       "      <td>False</td>\n",
       "      <td>False</td>\n",
       "      <td>False</td>\n",
       "      <td>False</td>\n",
       "      <td>False</td>\n",
       "      <td>False</td>\n",
       "      <td>False</td>\n",
       "      <td>False</td>\n",
       "    </tr>\n",
       "    <tr>\n",
       "      <th>4975</th>\n",
       "      <td>False</td>\n",
       "      <td>False</td>\n",
       "      <td>False</td>\n",
       "      <td>False</td>\n",
       "      <td>False</td>\n",
       "      <td>False</td>\n",
       "      <td>False</td>\n",
       "      <td>False</td>\n",
       "    </tr>\n",
       "    <tr>\n",
       "      <th>4976</th>\n",
       "      <td>False</td>\n",
       "      <td>False</td>\n",
       "      <td>False</td>\n",
       "      <td>False</td>\n",
       "      <td>False</td>\n",
       "      <td>False</td>\n",
       "      <td>False</td>\n",
       "      <td>False</td>\n",
       "    </tr>\n",
       "    <tr>\n",
       "      <th>4977</th>\n",
       "      <td>False</td>\n",
       "      <td>False</td>\n",
       "      <td>False</td>\n",
       "      <td>False</td>\n",
       "      <td>False</td>\n",
       "      <td>False</td>\n",
       "      <td>False</td>\n",
       "      <td>False</td>\n",
       "    </tr>\n",
       "    <tr>\n",
       "      <th>4978</th>\n",
       "      <td>False</td>\n",
       "      <td>False</td>\n",
       "      <td>False</td>\n",
       "      <td>False</td>\n",
       "      <td>False</td>\n",
       "      <td>False</td>\n",
       "      <td>False</td>\n",
       "      <td>False</td>\n",
       "    </tr>\n",
       "    <tr>\n",
       "      <th>4979</th>\n",
       "      <td>False</td>\n",
       "      <td>False</td>\n",
       "      <td>False</td>\n",
       "      <td>False</td>\n",
       "      <td>False</td>\n",
       "      <td>False</td>\n",
       "      <td>False</td>\n",
       "      <td>False</td>\n",
       "    </tr>\n",
       "  </tbody>\n",
       "</table>\n",
       "</div>"
      ],
      "text/plain": [
       "       4 PURPLE FLOCK DINNER CANDLES   50'S CHRISTMAS GIFT BAG LARGE  \\\n",
       "4970                           False                           False   \n",
       "4971                           False                           False   \n",
       "4972                           False                           False   \n",
       "4973                           False                           False   \n",
       "4974                           False                           False   \n",
       "4975                           False                           False   \n",
       "4976                           False                           False   \n",
       "4977                           False                           False   \n",
       "4978                           False                           False   \n",
       "4979                           False                           False   \n",
       "\n",
       "       DOLLY GIRL BEAKER   I LOVE LONDON MINI BACKPACK  \\\n",
       "4970               False                         False   \n",
       "4971                True                         False   \n",
       "4972               False                         False   \n",
       "4973               False                         False   \n",
       "4974               False                         False   \n",
       "4975               False                         False   \n",
       "4976               False                         False   \n",
       "4977               False                         False   \n",
       "4978               False                         False   \n",
       "4979               False                         False   \n",
       "\n",
       "       NINE DRAWER OFFICE TIDY   OVAL WALL MIRROR DIAMANTE   \\\n",
       "4970                     False                        False   \n",
       "4971                     False                        False   \n",
       "4972                     False                        False   \n",
       "4973                     False                        False   \n",
       "4974                     False                        False   \n",
       "4975                     False                        False   \n",
       "4976                     False                        False   \n",
       "4977                     False                        False   \n",
       "4978                     False                        False   \n",
       "4979                     False                        False   \n",
       "\n",
       "       RED SPOT GIFT BAG LARGE   SET 2 TEA TOWELS I LOVE LONDON   \n",
       "4970                     False                             False  \n",
       "4971                     False                             False  \n",
       "4972                     False                             False  \n",
       "4973                     False                             False  \n",
       "4974                     False                             False  \n",
       "4975                     False                             False  \n",
       "4976                     False                             False  \n",
       "4977                     False                             False  \n",
       "4978                     False                             False  \n",
       "4979                     False                             False  "
      ]
     },
     "execution_count": 24,
     "metadata": {},
     "output_type": "execute_result"
    }
   ],
   "source": [
    "online_encoder_df = pandas.DataFrame(\n",
    "    online_encoder_array, \n",
    "    columns=online_encoder.columns_\n",
    ")\n",
    "\n",
    "# this is a very big table, so for more \n",
    "# easy viewing only a subset is printed\n",
    "online_encoder_df.loc[\n",
    "    4970:4979, \n",
    "    online_encoder_df.columns.tolist()[0:8]\n",
    "]"
   ]
  },
  {
   "cell_type": "code",
   "execution_count": 25,
   "metadata": {},
   "outputs": [
    {
     "name": "stdout",
     "output_type": "stream",
     "text": [
      "Data dimension (row count, col count): (5000, 3334)\n"
     ]
    }
   ],
   "source": [
    "print(\n",
    "    \"Data dimension (row count, col count): {dim}\"\n",
    "    .format(dim=online_encoder_df.shape)\n",
    ")"
   ]
  },
  {
   "cell_type": "code",
   "execution_count": 26,
   "metadata": {},
   "outputs": [
    {
     "data": {
      "text/html": [
       "<div>\n",
       "<style scoped>\n",
       "    .dataframe tbody tr th:only-of-type {\n",
       "        vertical-align: middle;\n",
       "    }\n",
       "\n",
       "    .dataframe tbody tr th {\n",
       "        vertical-align: top;\n",
       "    }\n",
       "\n",
       "    .dataframe thead th {\n",
       "        text-align: right;\n",
       "    }\n",
       "</style>\n",
       "<table border=\"1\" class=\"dataframe\">\n",
       "  <thead>\n",
       "    <tr style=\"text-align: right;\">\n",
       "      <th></th>\n",
       "      <th>support</th>\n",
       "      <th>itemsets</th>\n",
       "    </tr>\n",
       "  </thead>\n",
       "  <tbody>\n",
       "  </tbody>\n",
       "</table>\n",
       "</div>"
      ],
      "text/plain": [
       "Empty DataFrame\n",
       "Columns: [support, itemsets]\n",
       "Index: []"
      ]
     },
     "execution_count": 26,
     "metadata": {},
     "output_type": "execute_result"
    }
   ],
   "source": [
    "#EXERCISE 6\n",
    "mod = mlxtend.frequent_patterns.apriori(online_encoder_df)\n",
    "mod"
   ]
  },
  {
   "cell_type": "code",
   "execution_count": 27,
   "metadata": {},
   "outputs": [
    {
     "data": {
      "text/html": [
       "<div>\n",
       "<style scoped>\n",
       "    .dataframe tbody tr th:only-of-type {\n",
       "        vertical-align: middle;\n",
       "    }\n",
       "\n",
       "    .dataframe tbody tr th {\n",
       "        vertical-align: top;\n",
       "    }\n",
       "\n",
       "    .dataframe thead th {\n",
       "        text-align: right;\n",
       "    }\n",
       "</style>\n",
       "<table border=\"1\" class=\"dataframe\">\n",
       "  <thead>\n",
       "    <tr style=\"text-align: right;\">\n",
       "      <th></th>\n",
       "      <th>support</th>\n",
       "      <th>itemsets</th>\n",
       "    </tr>\n",
       "  </thead>\n",
       "  <tbody>\n",
       "    <tr>\n",
       "      <th>0</th>\n",
       "      <td>0.0168</td>\n",
       "      <td>(2)</td>\n",
       "    </tr>\n",
       "    <tr>\n",
       "      <th>1</th>\n",
       "      <td>0.0150</td>\n",
       "      <td>(10)</td>\n",
       "    </tr>\n",
       "    <tr>\n",
       "      <th>2</th>\n",
       "      <td>0.0116</td>\n",
       "      <td>(15)</td>\n",
       "    </tr>\n",
       "    <tr>\n",
       "      <th>3</th>\n",
       "      <td>0.0144</td>\n",
       "      <td>(18)</td>\n",
       "    </tr>\n",
       "    <tr>\n",
       "      <th>4</th>\n",
       "      <td>0.0210</td>\n",
       "      <td>(19)</td>\n",
       "    </tr>\n",
       "    <tr>\n",
       "      <th>5</th>\n",
       "      <td>0.0144</td>\n",
       "      <td>(20)</td>\n",
       "    </tr>\n",
       "    <tr>\n",
       "      <th>6</th>\n",
       "      <td>0.0138</td>\n",
       "      <td>(21)</td>\n",
       "    </tr>\n",
       "  </tbody>\n",
       "</table>\n",
       "</div>"
      ],
      "text/plain": [
       "   support itemsets\n",
       "0   0.0168      (2)\n",
       "1   0.0150     (10)\n",
       "2   0.0116     (15)\n",
       "3   0.0144     (18)\n",
       "4   0.0210     (19)\n",
       "5   0.0144     (20)\n",
       "6   0.0138     (21)"
      ]
     },
     "execution_count": 27,
     "metadata": {},
     "output_type": "execute_result"
    }
   ],
   "source": [
    "mod_minsupport = mlxtend.frequent_patterns.apriori(\n",
    "    online_encoder_df,\n",
    "    min_support=0.01\n",
    ")\n",
    "mod_minsupport.loc[0:6]"
   ]
  },
  {
   "cell_type": "code",
   "execution_count": 28,
   "metadata": {},
   "outputs": [
    {
     "data": {
      "text/html": [
       "<div>\n",
       "<style scoped>\n",
       "    .dataframe tbody tr th:only-of-type {\n",
       "        vertical-align: middle;\n",
       "    }\n",
       "\n",
       "    .dataframe tbody tr th {\n",
       "        vertical-align: top;\n",
       "    }\n",
       "\n",
       "    .dataframe thead th {\n",
       "        text-align: right;\n",
       "    }\n",
       "</style>\n",
       "<table border=\"1\" class=\"dataframe\">\n",
       "  <thead>\n",
       "    <tr style=\"text-align: right;\">\n",
       "      <th></th>\n",
       "      <th>support</th>\n",
       "      <th>itemsets</th>\n",
       "    </tr>\n",
       "  </thead>\n",
       "  <tbody>\n",
       "    <tr>\n",
       "      <th>0</th>\n",
       "      <td>0.0168</td>\n",
       "      <td>( DOLLY GIRL BEAKER)</td>\n",
       "    </tr>\n",
       "    <tr>\n",
       "      <th>1</th>\n",
       "      <td>0.0150</td>\n",
       "      <td>(10 COLOUR SPACEBOY PEN)</td>\n",
       "    </tr>\n",
       "    <tr>\n",
       "      <th>2</th>\n",
       "      <td>0.0116</td>\n",
       "      <td>(12 MESSAGE CARDS WITH ENVELOPES)</td>\n",
       "    </tr>\n",
       "    <tr>\n",
       "      <th>3</th>\n",
       "      <td>0.0144</td>\n",
       "      <td>(12 PENCILS SMALL TUBE SKULL)</td>\n",
       "    </tr>\n",
       "    <tr>\n",
       "      <th>4</th>\n",
       "      <td>0.0210</td>\n",
       "      <td>(12 PENCILS TALL TUBE POSY)</td>\n",
       "    </tr>\n",
       "    <tr>\n",
       "      <th>5</th>\n",
       "      <td>0.0144</td>\n",
       "      <td>(12 PENCILS TALL TUBE RED RETROSPOT)</td>\n",
       "    </tr>\n",
       "    <tr>\n",
       "      <th>6</th>\n",
       "      <td>0.0138</td>\n",
       "      <td>(12 PENCILS TALL TUBE SKULLS)</td>\n",
       "    </tr>\n",
       "  </tbody>\n",
       "</table>\n",
       "</div>"
      ],
      "text/plain": [
       "   support                              itemsets\n",
       "0   0.0168                  ( DOLLY GIRL BEAKER)\n",
       "1   0.0150              (10 COLOUR SPACEBOY PEN)\n",
       "2   0.0116     (12 MESSAGE CARDS WITH ENVELOPES)\n",
       "3   0.0144         (12 PENCILS SMALL TUBE SKULL)\n",
       "4   0.0210           (12 PENCILS TALL TUBE POSY)\n",
       "5   0.0144  (12 PENCILS TALL TUBE RED RETROSPOT)\n",
       "6   0.0138         (12 PENCILS TALL TUBE SKULLS)"
      ]
     },
     "execution_count": 28,
     "metadata": {},
     "output_type": "execute_result"
    }
   ],
   "source": [
    "mod_colnames_minsupport = mlxtend.frequent_patterns.apriori(\n",
    "    online_encoder_df, \n",
    "    min_support=0.01,\n",
    "    use_colnames=True\n",
    ")\n",
    "mod_colnames_minsupport.loc[0:6]"
   ]
  },
  {
   "cell_type": "code",
   "execution_count": 29,
   "metadata": {},
   "outputs": [
    {
     "data": {
      "text/html": [
       "<div>\n",
       "<style scoped>\n",
       "    .dataframe tbody tr th:only-of-type {\n",
       "        vertical-align: middle;\n",
       "    }\n",
       "\n",
       "    .dataframe tbody tr th {\n",
       "        vertical-align: top;\n",
       "    }\n",
       "\n",
       "    .dataframe thead th {\n",
       "        text-align: right;\n",
       "    }\n",
       "</style>\n",
       "<table border=\"1\" class=\"dataframe\">\n",
       "  <thead>\n",
       "    <tr style=\"text-align: right;\">\n",
       "      <th></th>\n",
       "      <th>support</th>\n",
       "      <th>itemsets</th>\n",
       "      <th>length</th>\n",
       "    </tr>\n",
       "  </thead>\n",
       "  <tbody>\n",
       "    <tr>\n",
       "      <th>0</th>\n",
       "      <td>0.0168</td>\n",
       "      <td>( DOLLY GIRL BEAKER)</td>\n",
       "      <td>1</td>\n",
       "    </tr>\n",
       "    <tr>\n",
       "      <th>1</th>\n",
       "      <td>0.0150</td>\n",
       "      <td>(10 COLOUR SPACEBOY PEN)</td>\n",
       "      <td>1</td>\n",
       "    </tr>\n",
       "    <tr>\n",
       "      <th>2</th>\n",
       "      <td>0.0116</td>\n",
       "      <td>(12 MESSAGE CARDS WITH ENVELOPES)</td>\n",
       "      <td>1</td>\n",
       "    </tr>\n",
       "    <tr>\n",
       "      <th>3</th>\n",
       "      <td>0.0144</td>\n",
       "      <td>(12 PENCILS SMALL TUBE SKULL)</td>\n",
       "      <td>1</td>\n",
       "    </tr>\n",
       "    <tr>\n",
       "      <th>4</th>\n",
       "      <td>0.0210</td>\n",
       "      <td>(12 PENCILS TALL TUBE POSY)</td>\n",
       "      <td>1</td>\n",
       "    </tr>\n",
       "    <tr>\n",
       "      <th>5</th>\n",
       "      <td>0.0144</td>\n",
       "      <td>(12 PENCILS TALL TUBE RED RETROSPOT)</td>\n",
       "      <td>1</td>\n",
       "    </tr>\n",
       "    <tr>\n",
       "      <th>6</th>\n",
       "      <td>0.0138</td>\n",
       "      <td>(12 PENCILS TALL TUBE SKULLS)</td>\n",
       "      <td>1</td>\n",
       "    </tr>\n",
       "  </tbody>\n",
       "</table>\n",
       "</div>"
      ],
      "text/plain": [
       "   support                              itemsets  length\n",
       "0   0.0168                  ( DOLLY GIRL BEAKER)       1\n",
       "1   0.0150              (10 COLOUR SPACEBOY PEN)       1\n",
       "2   0.0116     (12 MESSAGE CARDS WITH ENVELOPES)       1\n",
       "3   0.0144         (12 PENCILS SMALL TUBE SKULL)       1\n",
       "4   0.0210           (12 PENCILS TALL TUBE POSY)       1\n",
       "5   0.0144  (12 PENCILS TALL TUBE RED RETROSPOT)       1\n",
       "6   0.0138         (12 PENCILS TALL TUBE SKULLS)       1"
      ]
     },
     "execution_count": 29,
     "metadata": {},
     "output_type": "execute_result"
    }
   ],
   "source": [
    "mod_colnames_minsupport['length'] = (\n",
    "    mod_colnames_minsupport['itemsets'].apply(lambda x: len(x))\n",
    ")\n",
    "mod_colnames_minsupport.loc[0:6]"
   ]
  },
  {
   "cell_type": "code",
   "execution_count": 30,
   "metadata": {},
   "outputs": [
    {
     "data": {
      "text/html": [
       "<div>\n",
       "<style scoped>\n",
       "    .dataframe tbody tr th:only-of-type {\n",
       "        vertical-align: middle;\n",
       "    }\n",
       "\n",
       "    .dataframe tbody tr th {\n",
       "        vertical-align: top;\n",
       "    }\n",
       "\n",
       "    .dataframe thead th {\n",
       "        text-align: right;\n",
       "    }\n",
       "</style>\n",
       "<table border=\"1\" class=\"dataframe\">\n",
       "  <thead>\n",
       "    <tr style=\"text-align: right;\">\n",
       "      <th></th>\n",
       "      <th>support</th>\n",
       "      <th>itemsets</th>\n",
       "      <th>length</th>\n",
       "    </tr>\n",
       "  </thead>\n",
       "  <tbody>\n",
       "    <tr>\n",
       "      <th>4</th>\n",
       "      <td>0.021</td>\n",
       "      <td>(12 PENCILS TALL TUBE POSY)</td>\n",
       "      <td>1</td>\n",
       "    </tr>\n",
       "  </tbody>\n",
       "</table>\n",
       "</div>"
      ],
      "text/plain": [
       "   support                     itemsets  length\n",
       "4    0.021  (12 PENCILS TALL TUBE POSY)       1"
      ]
     },
     "execution_count": 30,
     "metadata": {},
     "output_type": "execute_result"
    }
   ],
   "source": [
    "mod_colnames_minsupport[\n",
    "    mod_colnames_minsupport['itemsets'] == frozenset(\n",
    "        {'12 PENCILS TALL TUBE POSY'}\n",
    "    )\n",
    "]"
   ]
  },
  {
   "cell_type": "code",
   "execution_count": 31,
   "metadata": {},
   "outputs": [
    {
     "data": {
      "text/html": [
       "<div>\n",
       "<style scoped>\n",
       "    .dataframe tbody tr th:only-of-type {\n",
       "        vertical-align: middle;\n",
       "    }\n",
       "\n",
       "    .dataframe tbody tr th {\n",
       "        vertical-align: top;\n",
       "    }\n",
       "\n",
       "    .dataframe thead th {\n",
       "        text-align: right;\n",
       "    }\n",
       "</style>\n",
       "<table border=\"1\" class=\"dataframe\">\n",
       "  <thead>\n",
       "    <tr style=\"text-align: right;\">\n",
       "      <th></th>\n",
       "      <th>support</th>\n",
       "      <th>itemsets</th>\n",
       "      <th>length</th>\n",
       "    </tr>\n",
       "  </thead>\n",
       "  <tbody>\n",
       "    <tr>\n",
       "      <th>837</th>\n",
       "      <td>0.0202</td>\n",
       "      <td>(ALARM CLOCK BAKELIKE GREEN, ALARM CLOCK BAKEL...</td>\n",
       "      <td>2</td>\n",
       "    </tr>\n",
       "    <tr>\n",
       "      <th>956</th>\n",
       "      <td>0.0202</td>\n",
       "      <td>(LUNCH BAG APPLE DESIGN, CHARLOTTE BAG APPLES ...</td>\n",
       "      <td>2</td>\n",
       "    </tr>\n",
       "    <tr>\n",
       "      <th>994</th>\n",
       "      <td>0.0200</td>\n",
       "      <td>(CHARLOTTE BAG PINK POLKADOT, LUNCH BAG PINK P...</td>\n",
       "      <td>2</td>\n",
       "    </tr>\n",
       "    <tr>\n",
       "      <th>1026</th>\n",
       "      <td>0.0206</td>\n",
       "      <td>(CHARLOTTE BAG SUKI DESIGN, LUNCH BAG  BLACK S...</td>\n",
       "      <td>2</td>\n",
       "    </tr>\n",
       "    <tr>\n",
       "      <th>1032</th>\n",
       "      <td>0.0206</td>\n",
       "      <td>(LUNCH BAG RED RETROSPOT, CHARLOTTE BAG SUKI D...</td>\n",
       "      <td>2</td>\n",
       "    </tr>\n",
       "    <tr>\n",
       "      <th>1131</th>\n",
       "      <td>0.0200</td>\n",
       "      <td>(JUMBO SHOPPER VINTAGE RED PAISLEY, DOTCOM POS...</td>\n",
       "      <td>2</td>\n",
       "    </tr>\n",
       "    <tr>\n",
       "      <th>1298</th>\n",
       "      <td>0.0208</td>\n",
       "      <td>(HEART OF WICKER SMALL, HEART OF WICKER LARGE)</td>\n",
       "      <td>2</td>\n",
       "    </tr>\n",
       "    <tr>\n",
       "      <th>1305</th>\n",
       "      <td>0.0200</td>\n",
       "      <td>(HEART OF WICKER SMALL, SMALL WHITE HEART OF W...</td>\n",
       "      <td>2</td>\n",
       "    </tr>\n",
       "    <tr>\n",
       "      <th>1316</th>\n",
       "      <td>0.0204</td>\n",
       "      <td>(JAM MAKING SET WITH JARS, JAM MAKING SET PRIN...</td>\n",
       "      <td>2</td>\n",
       "    </tr>\n",
       "    <tr>\n",
       "      <th>1349</th>\n",
       "      <td>0.0208</td>\n",
       "      <td>(SET OF 3 REGENCY CAKE TINS, JAM MAKING SET PR...</td>\n",
       "      <td>2</td>\n",
       "    </tr>\n",
       "    <tr>\n",
       "      <th>1440</th>\n",
       "      <td>0.0200</td>\n",
       "      <td>(LUNCH BAG ALPHABET DESIGN, JUMBO BAG ALPHABET)</td>\n",
       "      <td>2</td>\n",
       "    </tr>\n",
       "    <tr>\n",
       "      <th>1464</th>\n",
       "      <td>0.0206</td>\n",
       "      <td>(JUMBO BAG DOILEY PATTERNS, JUMBO BAG APPLES)</td>\n",
       "      <td>2</td>\n",
       "    </tr>\n",
       "    <tr>\n",
       "      <th>1471</th>\n",
       "      <td>0.0202</td>\n",
       "      <td>(JUMBO BAG SCANDINAVIAN BLUE PAISLEY, JUMBO BA...</td>\n",
       "      <td>2</td>\n",
       "    </tr>\n",
       "    <tr>\n",
       "      <th>1472</th>\n",
       "      <td>0.0202</td>\n",
       "      <td>(JUMBO BAG SPACEBOY DESIGN, JUMBO BAG APPLES)</td>\n",
       "      <td>2</td>\n",
       "    </tr>\n",
       "    <tr>\n",
       "      <th>1479</th>\n",
       "      <td>0.0204</td>\n",
       "      <td>(JUMBO STORAGE BAG SKULLS, JUMBO BAG APPLES)</td>\n",
       "      <td>2</td>\n",
       "    </tr>\n",
       "    <tr>\n",
       "      <th>1575</th>\n",
       "      <td>0.0200</td>\n",
       "      <td>(JUMBO BAG OWLS, JUMBO BAG PINK POLKADOT)</td>\n",
       "      <td>2</td>\n",
       "    </tr>\n",
       "    <tr>\n",
       "      <th>1583</th>\n",
       "      <td>0.0208</td>\n",
       "      <td>(JUMBO BAG OWLS, JUMBO BAG WOODLAND ANIMALS)</td>\n",
       "      <td>2</td>\n",
       "    </tr>\n",
       "    <tr>\n",
       "      <th>1644</th>\n",
       "      <td>0.0200</td>\n",
       "      <td>(JUMBO BAG PINK POLKADOT, JUMBO BAG SPACEBOY D...</td>\n",
       "      <td>2</td>\n",
       "    </tr>\n",
       "    <tr>\n",
       "      <th>1711</th>\n",
       "      <td>0.0206</td>\n",
       "      <td>(JUMBO BAG RED RETROSPOT, LUNCH BAG  BLACK SKU...</td>\n",
       "      <td>2</td>\n",
       "    </tr>\n",
       "    <tr>\n",
       "      <th>1729</th>\n",
       "      <td>0.0202</td>\n",
       "      <td>(JUMBO BAG RED RETROSPOT, PARTY BUNTING)</td>\n",
       "      <td>2</td>\n",
       "    </tr>\n",
       "    <tr>\n",
       "      <th>1823</th>\n",
       "      <td>0.0202</td>\n",
       "      <td>(JUMBO BAG VINTAGE DOILY , JUMBO BAG VINTAGE L...</td>\n",
       "      <td>2</td>\n",
       "    </tr>\n",
       "    <tr>\n",
       "      <th>1853</th>\n",
       "      <td>0.0206</td>\n",
       "      <td>(LUNCH BAG VINTAGE LEAF DESIGN, JUMBO BAG VINT...</td>\n",
       "      <td>2</td>\n",
       "    </tr>\n",
       "    <tr>\n",
       "      <th>2040</th>\n",
       "      <td>0.0202</td>\n",
       "      <td>(LUNCH BAG APPLE DESIGN, LUNCH BAG VINTAGE DOI...</td>\n",
       "      <td>2</td>\n",
       "    </tr>\n",
       "    <tr>\n",
       "      <th>2047</th>\n",
       "      <td>0.0202</td>\n",
       "      <td>(LUNCH BAG APPLE DESIGN, PARTY BUNTING)</td>\n",
       "      <td>2</td>\n",
       "    </tr>\n",
       "    <tr>\n",
       "      <th>2113</th>\n",
       "      <td>0.0204</td>\n",
       "      <td>(LUNCH BAG DOLLY GIRL DESIGN, LUNCH BAG WOODLAND)</td>\n",
       "      <td>2</td>\n",
       "    </tr>\n",
       "    <tr>\n",
       "      <th>2130</th>\n",
       "      <td>0.0206</td>\n",
       "      <td>(RED RETROSPOT CHARLOTTE BAG, LUNCH BAG PINK P...</td>\n",
       "      <td>2</td>\n",
       "    </tr>\n",
       "    <tr>\n",
       "      <th>2221</th>\n",
       "      <td>0.0202</td>\n",
       "      <td>(WOODLAND CHARLOTTE BAG, LUNCH BAG SUKI DESIGN )</td>\n",
       "      <td>2</td>\n",
       "    </tr>\n",
       "    <tr>\n",
       "      <th>2422</th>\n",
       "      <td>0.0202</td>\n",
       "      <td>(WHITE HANGING HEART T-LIGHT HOLDER, RED HANGI...</td>\n",
       "      <td>2</td>\n",
       "    </tr>\n",
       "    <tr>\n",
       "      <th>2527</th>\n",
       "      <td>0.0208</td>\n",
       "      <td>(SPOTTY BUNTING, SET OF 3 CAKE TINS PANTRY DES...</td>\n",
       "      <td>2</td>\n",
       "    </tr>\n",
       "    <tr>\n",
       "      <th>2564</th>\n",
       "      <td>0.0206</td>\n",
       "      <td>(SET OF 6 TEA TIME BAKING CASES, SET OF 6 SNAC...</td>\n",
       "      <td>2</td>\n",
       "    </tr>\n",
       "    <tr>\n",
       "      <th>2591</th>\n",
       "      <td>0.0200</td>\n",
       "      <td>(SET/6 RED SPOTTY PAPER CUPS, SET/6 RED SPOTTY...</td>\n",
       "      <td>2</td>\n",
       "    </tr>\n",
       "    <tr>\n",
       "      <th>2603</th>\n",
       "      <td>0.0204</td>\n",
       "      <td>(WHITE HANGING HEART T-LIGHT HOLDER, SPOTTY BU...</td>\n",
       "      <td>2</td>\n",
       "    </tr>\n",
       "  </tbody>\n",
       "</table>\n",
       "</div>"
      ],
      "text/plain": [
       "      support                                           itemsets  length\n",
       "837    0.0202  (ALARM CLOCK BAKELIKE GREEN, ALARM CLOCK BAKEL...       2\n",
       "956    0.0202  (LUNCH BAG APPLE DESIGN, CHARLOTTE BAG APPLES ...       2\n",
       "994    0.0200  (CHARLOTTE BAG PINK POLKADOT, LUNCH BAG PINK P...       2\n",
       "1026   0.0206  (CHARLOTTE BAG SUKI DESIGN, LUNCH BAG  BLACK S...       2\n",
       "1032   0.0206  (LUNCH BAG RED RETROSPOT, CHARLOTTE BAG SUKI D...       2\n",
       "1131   0.0200  (JUMBO SHOPPER VINTAGE RED PAISLEY, DOTCOM POS...       2\n",
       "1298   0.0208     (HEART OF WICKER SMALL, HEART OF WICKER LARGE)       2\n",
       "1305   0.0200  (HEART OF WICKER SMALL, SMALL WHITE HEART OF W...       2\n",
       "1316   0.0204  (JAM MAKING SET WITH JARS, JAM MAKING SET PRIN...       2\n",
       "1349   0.0208  (SET OF 3 REGENCY CAKE TINS, JAM MAKING SET PR...       2\n",
       "1440   0.0200    (LUNCH BAG ALPHABET DESIGN, JUMBO BAG ALPHABET)       2\n",
       "1464   0.0206      (JUMBO BAG DOILEY PATTERNS, JUMBO BAG APPLES)       2\n",
       "1471   0.0202  (JUMBO BAG SCANDINAVIAN BLUE PAISLEY, JUMBO BA...       2\n",
       "1472   0.0202      (JUMBO BAG SPACEBOY DESIGN, JUMBO BAG APPLES)       2\n",
       "1479   0.0204       (JUMBO STORAGE BAG SKULLS, JUMBO BAG APPLES)       2\n",
       "1575   0.0200          (JUMBO BAG OWLS, JUMBO BAG PINK POLKADOT)       2\n",
       "1583   0.0208       (JUMBO BAG OWLS, JUMBO BAG WOODLAND ANIMALS)       2\n",
       "1644   0.0200  (JUMBO BAG PINK POLKADOT, JUMBO BAG SPACEBOY D...       2\n",
       "1711   0.0206  (JUMBO BAG RED RETROSPOT, LUNCH BAG  BLACK SKU...       2\n",
       "1729   0.0202           (JUMBO BAG RED RETROSPOT, PARTY BUNTING)       2\n",
       "1823   0.0202  (JUMBO BAG VINTAGE DOILY , JUMBO BAG VINTAGE L...       2\n",
       "1853   0.0206  (LUNCH BAG VINTAGE LEAF DESIGN, JUMBO BAG VINT...       2\n",
       "2040   0.0202  (LUNCH BAG APPLE DESIGN, LUNCH BAG VINTAGE DOI...       2\n",
       "2047   0.0202            (LUNCH BAG APPLE DESIGN, PARTY BUNTING)       2\n",
       "2113   0.0204  (LUNCH BAG DOLLY GIRL DESIGN, LUNCH BAG WOODLAND)       2\n",
       "2130   0.0206  (RED RETROSPOT CHARLOTTE BAG, LUNCH BAG PINK P...       2\n",
       "2221   0.0202   (WOODLAND CHARLOTTE BAG, LUNCH BAG SUKI DESIGN )       2\n",
       "2422   0.0202  (WHITE HANGING HEART T-LIGHT HOLDER, RED HANGI...       2\n",
       "2527   0.0208  (SPOTTY BUNTING, SET OF 3 CAKE TINS PANTRY DES...       2\n",
       "2564   0.0206  (SET OF 6 TEA TIME BAKING CASES, SET OF 6 SNAC...       2\n",
       "2591   0.0200  (SET/6 RED SPOTTY PAPER CUPS, SET/6 RED SPOTTY...       2\n",
       "2603   0.0204  (WHITE HANGING HEART T-LIGHT HOLDER, SPOTTY BU...       2"
      ]
     },
     "execution_count": 31,
     "metadata": {},
     "output_type": "execute_result"
    }
   ],
   "source": [
    "mod_colnames_minsupport[\n",
    "    (mod_colnames_minsupport['length'] == 2) & \n",
    "    (mod_colnames_minsupport['support'] >= 0.02) &\n",
    "    (mod_colnames_minsupport['support'] < 0.021)\n",
    "]"
   ]
  },
  {
   "cell_type": "code",
   "execution_count": 32,
   "metadata": {},
   "outputs": [
    {
     "data": {
      "text/plain": [
       "Text(0.5, 1.0, 'Support')"
      ]
     },
     "execution_count": 32,
     "metadata": {},
     "output_type": "execute_result"
    },
    {
     "data": {
      "image/png": "[encoded data removed]",
      "text/plain": [
       "<Figure size 432x288 with 1 Axes>"
      ]
     },
     "metadata": {
      "needs_background": "light"
     },
     "output_type": "display_data"
    }
   ],
   "source": [
    "mod_colnames_minsupport.hist(\"support\", grid=False, bins=30)\n",
    "plt.title(\"Support\")"
   ]
  },
  {
   "cell_type": "code",
   "execution_count": 33,
   "metadata": {},
   "outputs": [
    {
     "data": {
      "text/html": [
       "<div>\n",
       "<style scoped>\n",
       "    .dataframe tbody tr th:only-of-type {\n",
       "        vertical-align: middle;\n",
       "    }\n",
       "\n",
       "    .dataframe tbody tr th {\n",
       "        vertical-align: top;\n",
       "    }\n",
       "\n",
       "    .dataframe thead th {\n",
       "        text-align: right;\n",
       "    }\n",
       "</style>\n",
       "<table border=\"1\" class=\"dataframe\">\n",
       "  <thead>\n",
       "    <tr style=\"text-align: right;\">\n",
       "      <th></th>\n",
       "      <th>antecedents</th>\n",
       "      <th>consequents</th>\n",
       "      <th>antecedent support</th>\n",
       "      <th>consequent support</th>\n",
       "      <th>support</th>\n",
       "      <th>confidence</th>\n",
       "      <th>lift</th>\n",
       "      <th>leverage</th>\n",
       "      <th>conviction</th>\n",
       "    </tr>\n",
       "  </thead>\n",
       "  <tbody>\n",
       "    <tr>\n",
       "      <th>0</th>\n",
       "      <td>(SPACEBOY BEAKER)</td>\n",
       "      <td>( DOLLY GIRL BEAKER)</td>\n",
       "      <td>0.0172</td>\n",
       "      <td>0.0168</td>\n",
       "      <td>0.0126</td>\n",
       "      <td>0.732558</td>\n",
       "      <td>43.604651</td>\n",
       "      <td>0.012311</td>\n",
       "      <td>3.676313</td>\n",
       "    </tr>\n",
       "    <tr>\n",
       "      <th>1</th>\n",
       "      <td>( DOLLY GIRL BEAKER)</td>\n",
       "      <td>(SPACEBOY BEAKER)</td>\n",
       "      <td>0.0168</td>\n",
       "      <td>0.0172</td>\n",
       "      <td>0.0126</td>\n",
       "      <td>0.750000</td>\n",
       "      <td>43.604651</td>\n",
       "      <td>0.012311</td>\n",
       "      <td>3.931200</td>\n",
       "    </tr>\n",
       "    <tr>\n",
       "      <th>2</th>\n",
       "      <td>(ALARM CLOCK BAKELIKE CHOCOLATE)</td>\n",
       "      <td>(ALARM CLOCK BAKELIKE GREEN)</td>\n",
       "      <td>0.0208</td>\n",
       "      <td>0.0580</td>\n",
       "      <td>0.0160</td>\n",
       "      <td>0.769231</td>\n",
       "      <td>13.262599</td>\n",
       "      <td>0.014794</td>\n",
       "      <td>4.082000</td>\n",
       "    </tr>\n",
       "    <tr>\n",
       "      <th>3</th>\n",
       "      <td>(ALARM CLOCK BAKELIKE CHOCOLATE)</td>\n",
       "      <td>(ALARM CLOCK BAKELIKE RED )</td>\n",
       "      <td>0.0208</td>\n",
       "      <td>0.0498</td>\n",
       "      <td>0.0142</td>\n",
       "      <td>0.682692</td>\n",
       "      <td>13.708681</td>\n",
       "      <td>0.013164</td>\n",
       "      <td>2.994570</td>\n",
       "    </tr>\n",
       "    <tr>\n",
       "      <th>4</th>\n",
       "      <td>(ALARM CLOCK BAKELIKE IVORY)</td>\n",
       "      <td>(ALARM CLOCK BAKELIKE GREEN)</td>\n",
       "      <td>0.0302</td>\n",
       "      <td>0.0580</td>\n",
       "      <td>0.0202</td>\n",
       "      <td>0.668874</td>\n",
       "      <td>11.532313</td>\n",
       "      <td>0.018448</td>\n",
       "      <td>2.844840</td>\n",
       "    </tr>\n",
       "    <tr>\n",
       "      <th>5</th>\n",
       "      <td>(ALARM CLOCK BAKELIKE ORANGE)</td>\n",
       "      <td>(ALARM CLOCK BAKELIKE GREEN)</td>\n",
       "      <td>0.0282</td>\n",
       "      <td>0.0580</td>\n",
       "      <td>0.0212</td>\n",
       "      <td>0.751773</td>\n",
       "      <td>12.961604</td>\n",
       "      <td>0.019564</td>\n",
       "      <td>3.794914</td>\n",
       "    </tr>\n",
       "    <tr>\n",
       "      <th>6</th>\n",
       "      <td>(ALARM CLOCK BAKELIKE PINK)</td>\n",
       "      <td>(ALARM CLOCK BAKELIKE GREEN)</td>\n",
       "      <td>0.0380</td>\n",
       "      <td>0.0580</td>\n",
       "      <td>0.0254</td>\n",
       "      <td>0.668421</td>\n",
       "      <td>11.524501</td>\n",
       "      <td>0.023196</td>\n",
       "      <td>2.840952</td>\n",
       "    </tr>\n",
       "  </tbody>\n",
       "</table>\n",
       "</div>"
      ],
      "text/plain": [
       "                        antecedents                   consequents  \\\n",
       "0                 (SPACEBOY BEAKER)          ( DOLLY GIRL BEAKER)   \n",
       "1              ( DOLLY GIRL BEAKER)             (SPACEBOY BEAKER)   \n",
       "2  (ALARM CLOCK BAKELIKE CHOCOLATE)  (ALARM CLOCK BAKELIKE GREEN)   \n",
       "3  (ALARM CLOCK BAKELIKE CHOCOLATE)   (ALARM CLOCK BAKELIKE RED )   \n",
       "4      (ALARM CLOCK BAKELIKE IVORY)  (ALARM CLOCK BAKELIKE GREEN)   \n",
       "5     (ALARM CLOCK BAKELIKE ORANGE)  (ALARM CLOCK BAKELIKE GREEN)   \n",
       "6       (ALARM CLOCK BAKELIKE PINK)  (ALARM CLOCK BAKELIKE GREEN)   \n",
       "\n",
       "   antecedent support  consequent support  support  confidence       lift  \\\n",
       "0              0.0172              0.0168   0.0126    0.732558  43.604651   \n",
       "1              0.0168              0.0172   0.0126    0.750000  43.604651   \n",
       "2              0.0208              0.0580   0.0160    0.769231  13.262599   \n",
       "3              0.0208              0.0498   0.0142    0.682692  13.708681   \n",
       "4              0.0302              0.0580   0.0202    0.668874  11.532313   \n",
       "5              0.0282              0.0580   0.0212    0.751773  12.961604   \n",
       "6              0.0380              0.0580   0.0254    0.668421  11.524501   \n",
       "\n",
       "   leverage  conviction  \n",
       "0  0.012311    3.676313  \n",
       "1  0.012311    3.931200  \n",
       "2  0.014794    4.082000  \n",
       "3  0.013164    2.994570  \n",
       "4  0.018448    2.844840  \n",
       "5  0.019564    3.794914  \n",
       "6  0.023196    2.840952  "
      ]
     },
     "execution_count": 33,
     "metadata": {},
     "output_type": "execute_result"
    }
   ],
   "source": [
    "#Exercise 7\n",
    "rules = mlxtend.frequent_patterns.association_rules(\n",
    "    mod_colnames_minsupport, \n",
    "    metric=\"confidence\",\n",
    "    min_threshold=0.6, \n",
    "    support_only=False\n",
    ")\n",
    "rules.loc[0:6]\n"
   ]
  },
  {
   "cell_type": "code",
   "execution_count": 34,
   "metadata": {},
   "outputs": [
    {
     "name": "stdout",
     "output_type": "stream",
     "text": [
      "Number of Associations: 5070\n"
     ]
    }
   ],
   "source": [
    "print(\"Number of Associations: {}\".format(rules.shape[0]))"
   ]
  },
  {
   "cell_type": "code",
   "execution_count": 35,
   "metadata": {},
   "outputs": [
    {
     "data": {
      "text/html": [
       "<div>\n",
       "<style scoped>\n",
       "    .dataframe tbody tr th:only-of-type {\n",
       "        vertical-align: middle;\n",
       "    }\n",
       "\n",
       "    .dataframe tbody tr th {\n",
       "        vertical-align: top;\n",
       "    }\n",
       "\n",
       "    .dataframe thead th {\n",
       "        text-align: right;\n",
       "    }\n",
       "</style>\n",
       "<table border=\"1\" class=\"dataframe\">\n",
       "  <thead>\n",
       "    <tr style=\"text-align: right;\">\n",
       "      <th></th>\n",
       "      <th>antecedents</th>\n",
       "      <th>consequents</th>\n",
       "      <th>antecedent support</th>\n",
       "      <th>consequent support</th>\n",
       "      <th>support</th>\n",
       "      <th>confidence</th>\n",
       "      <th>lift</th>\n",
       "      <th>leverage</th>\n",
       "      <th>conviction</th>\n",
       "    </tr>\n",
       "  </thead>\n",
       "  <tbody>\n",
       "    <tr>\n",
       "      <th>0</th>\n",
       "      <td>(POPPY'S PLAYHOUSE KITCHEN, POPPY'S PLAYHOUSE ...</td>\n",
       "      <td>(POPPY'S PLAYHOUSE LIVINGROOM )</td>\n",
       "      <td>0.0136</td>\n",
       "      <td>0.0148</td>\n",
       "      <td>0.0102</td>\n",
       "      <td>0.750000</td>\n",
       "      <td>50.675676</td>\n",
       "      <td>0.009999</td>\n",
       "      <td>3.940800</td>\n",
       "    </tr>\n",
       "    <tr>\n",
       "      <th>1</th>\n",
       "      <td>(POPPY'S PLAYHOUSE LIVINGROOM )</td>\n",
       "      <td>(POPPY'S PLAYHOUSE KITCHEN, POPPY'S PLAYHOUSE ...</td>\n",
       "      <td>0.0148</td>\n",
       "      <td>0.0136</td>\n",
       "      <td>0.0102</td>\n",
       "      <td>0.689189</td>\n",
       "      <td>50.675676</td>\n",
       "      <td>0.009999</td>\n",
       "      <td>3.173635</td>\n",
       "    </tr>\n",
       "    <tr>\n",
       "      <th>2</th>\n",
       "      <td>(DOLLY GIRL CHILDRENS CUP, SPACEBOY CHILDRENS ...</td>\n",
       "      <td>(DOLLY GIRL CHILDRENS BOWL, SPACEBOY CHILDRENS...</td>\n",
       "      <td>0.0140</td>\n",
       "      <td>0.0136</td>\n",
       "      <td>0.0120</td>\n",
       "      <td>0.857143</td>\n",
       "      <td>63.025210</td>\n",
       "      <td>0.011810</td>\n",
       "      <td>6.904800</td>\n",
       "    </tr>\n",
       "    <tr>\n",
       "      <th>3</th>\n",
       "      <td>(DOLLY GIRL CHILDRENS BOWL, SPACEBOY CHILDRENS...</td>\n",
       "      <td>(DOLLY GIRL CHILDRENS CUP, SPACEBOY CHILDRENS ...</td>\n",
       "      <td>0.0136</td>\n",
       "      <td>0.0140</td>\n",
       "      <td>0.0120</td>\n",
       "      <td>0.882353</td>\n",
       "      <td>63.025210</td>\n",
       "      <td>0.011810</td>\n",
       "      <td>8.381000</td>\n",
       "    </tr>\n",
       "    <tr>\n",
       "      <th>4</th>\n",
       "      <td>(GREEN REGENCY TEACUP AND SAUCER, REGENCY TEA ...</td>\n",
       "      <td>(PINK REGENCY TEACUP AND SAUCER, REGENCY TEA P...</td>\n",
       "      <td>0.0160</td>\n",
       "      <td>0.0138</td>\n",
       "      <td>0.0112</td>\n",
       "      <td>0.700000</td>\n",
       "      <td>50.724638</td>\n",
       "      <td>0.010979</td>\n",
       "      <td>3.287333</td>\n",
       "    </tr>\n",
       "    <tr>\n",
       "      <th>5</th>\n",
       "      <td>(PINK REGENCY TEACUP AND SAUCER, REGENCY TEA P...</td>\n",
       "      <td>(GREEN REGENCY TEACUP AND SAUCER, REGENCY TEA ...</td>\n",
       "      <td>0.0138</td>\n",
       "      <td>0.0160</td>\n",
       "      <td>0.0112</td>\n",
       "      <td>0.811594</td>\n",
       "      <td>50.724638</td>\n",
       "      <td>0.010979</td>\n",
       "      <td>5.222769</td>\n",
       "    </tr>\n",
       "    <tr>\n",
       "      <th>6</th>\n",
       "      <td>(GREEN REGENCY TEACUP AND SAUCER, REGENCY TEA ...</td>\n",
       "      <td>(REGENCY TEA PLATE GREEN , ROSES REGENCY TEACU...</td>\n",
       "      <td>0.0124</td>\n",
       "      <td>0.0166</td>\n",
       "      <td>0.0106</td>\n",
       "      <td>0.854839</td>\n",
       "      <td>51.496308</td>\n",
       "      <td>0.010394</td>\n",
       "      <td>6.774533</td>\n",
       "    </tr>\n",
       "  </tbody>\n",
       "</table>\n",
       "</div>"
      ],
      "text/plain": [
       "                                         antecedents  \\\n",
       "0  (POPPY'S PLAYHOUSE KITCHEN, POPPY'S PLAYHOUSE ...   \n",
       "1                    (POPPY'S PLAYHOUSE LIVINGROOM )   \n",
       "2  (DOLLY GIRL CHILDRENS CUP, SPACEBOY CHILDRENS ...   \n",
       "3  (DOLLY GIRL CHILDRENS BOWL, SPACEBOY CHILDRENS...   \n",
       "4  (GREEN REGENCY TEACUP AND SAUCER, REGENCY TEA ...   \n",
       "5  (PINK REGENCY TEACUP AND SAUCER, REGENCY TEA P...   \n",
       "6  (GREEN REGENCY TEACUP AND SAUCER, REGENCY TEA ...   \n",
       "\n",
       "                                         consequents  antecedent support  \\\n",
       "0                    (POPPY'S PLAYHOUSE LIVINGROOM )              0.0136   \n",
       "1  (POPPY'S PLAYHOUSE KITCHEN, POPPY'S PLAYHOUSE ...              0.0148   \n",
       "2  (DOLLY GIRL CHILDRENS BOWL, SPACEBOY CHILDRENS...              0.0140   \n",
       "3  (DOLLY GIRL CHILDRENS CUP, SPACEBOY CHILDRENS ...              0.0136   \n",
       "4  (PINK REGENCY TEACUP AND SAUCER, REGENCY TEA P...              0.0160   \n",
       "5  (GREEN REGENCY TEACUP AND SAUCER, REGENCY TEA ...              0.0138   \n",
       "6  (REGENCY TEA PLATE GREEN , ROSES REGENCY TEACU...              0.0124   \n",
       "\n",
       "   consequent support  support  confidence       lift  leverage  conviction  \n",
       "0              0.0148   0.0102    0.750000  50.675676  0.009999    3.940800  \n",
       "1              0.0136   0.0102    0.689189  50.675676  0.009999    3.173635  \n",
       "2              0.0136   0.0120    0.857143  63.025210  0.011810    6.904800  \n",
       "3              0.0140   0.0120    0.882353  63.025210  0.011810    8.381000  \n",
       "4              0.0138   0.0112    0.700000  50.724638  0.010979    3.287333  \n",
       "5              0.0160   0.0112    0.811594  50.724638  0.010979    5.222769  \n",
       "6              0.0166   0.0106    0.854839  51.496308  0.010394    6.774533  "
      ]
     },
     "execution_count": 35,
     "metadata": {},
     "output_type": "execute_result"
    }
   ],
   "source": [
    "rules2 = mlxtend.frequent_patterns.association_rules(\n",
    "    mod_colnames_minsupport, \n",
    "    metric=\"lift\",\n",
    "    min_threshold=50, \n",
    "    support_only=False\n",
    ")\n",
    "rules2.loc[0:6]\n"
   ]
  },
  {
   "cell_type": "code",
   "execution_count": 36,
   "metadata": {},
   "outputs": [
    {
     "name": "stdout",
     "output_type": "stream",
     "text": [
      "Number of Associations: 26\n"
     ]
    }
   ],
   "source": [
    "print(\"Number of Associations: {}\".format(rules2.shape[0]))"
   ]
  },
  {
   "cell_type": "code",
   "execution_count": 37,
   "metadata": {},
   "outputs": [
    {
     "data": {
      "image/png": "[encoded data removed]",
      "text/plain": [
       "<Figure size 432x288 with 1 Axes>"
      ]
     },
     "metadata": {
      "needs_background": "light"
     },
     "output_type": "display_data"
    }
   ],
   "source": [
    "rules.plot.scatter(\"support\", \"confidence\", alpha=0.5, marker=\"*\")\n",
    "plt.xlabel(\"Support\")\n",
    "plt.ylabel(\"Confidence\")\n",
    "plt.title(\"Association Rules\")\n",
    "plt.show()\n"
   ]
  },
  {
   "cell_type": "code",
   "execution_count": 38,
   "metadata": {},
   "outputs": [
    {
     "data": {
      "text/plain": [
       "Text(0.5, 1.0, 'Confidence')"
      ]
     },
     "execution_count": 38,
     "metadata": {},
     "output_type": "execute_result"
    },
    {
     "data": {
      "image/png": "[encoded data removed]",
      "text/plain": [
       "<Figure size 432x288 with 1 Axes>"
      ]
     },
     "metadata": {
      "needs_background": "light"
     },
     "output_type": "display_data"
    }
   ],
   "source": [
    "rules.hist(\"confidence\", grid=False, bins=30)\n",
    "plt.title(\"Confidence\")\n"
   ]
  },
  {
   "cell_type": "code",
   "execution_count": 39,
   "metadata": {},
   "outputs": [
    {
     "data": {
      "text/plain": [
       "Text(0.5, 1.0, 'Lift')"
      ]
     },
     "execution_count": 39,
     "metadata": {},
     "output_type": "execute_result"
    },
    {
     "data": {
      "image/png": "[encoded data removed]",
      "text/plain": [
       "<Figure size 432x288 with 1 Axes>"
      ]
     },
     "metadata": {
      "needs_background": "light"
     },
     "output_type": "display_data"
    }
   ],
   "source": [
    "rules.hist(\"lift\", grid=False, bins=30)\n",
    "plt.title(\"Lift\")\n"
   ]
  },
  {
   "cell_type": "code",
   "execution_count": 40,
   "metadata": {},
   "outputs": [
    {
     "data": {
      "text/plain": [
       "Text(0.5, 1.0, 'Leverage')"
      ]
     },
     "execution_count": 40,
     "metadata": {},
     "output_type": "execute_result"
    },
    {
     "data": {
      "image/png": "[encoded data removed]",
      "text/plain": [
       "<Figure size 432x288 with 1 Axes>"
      ]
     },
     "metadata": {
      "needs_background": "light"
     },
     "output_type": "display_data"
    }
   ],
   "source": [
    "rules.hist(\"leverage\", grid=False, bins=30)\n",
    "plt.title(\"Leverage\")\n"
   ]
  },
  {
   "cell_type": "code",
   "execution_count": 41,
   "metadata": {},
   "outputs": [
    {
     "data": {
      "text/plain": [
       "Text(0.5, 1.0, 'Conviction')"
      ]
     },
     "execution_count": 41,
     "metadata": {},
     "output_type": "execute_result"
    },
    {
     "data": {
      "image/png": "[encoded data removed]",
      "text/plain": [
       "<Figure size 432x288 with 1 Axes>"
      ]
     },
     "metadata": {
      "needs_background": "light"
     },
     "output_type": "display_data"
    }
   ],
   "source": [
    "plt.hist(\n",
    "    rules[numpy.isfinite(rules['conviction'])].conviction.values, \n",
    "    bins = 30\n",
    ")\n",
    "plt.title(\"Conviction\")\n"
   ]
  },
  {
   "cell_type": "code",
   "execution_count": null,
   "metadata": {},
   "outputs": [],
   "source": []
  }
 ],
 "metadata": {
  "kernelspec": {
   "display_name": "Python 3",
   "language": "python",
   "name": "python3"
  },
  "language_info": {
   "codemirror_mode": {
    "name": "ipython",
    "version": 3
   },
   "file_extension": ".py",
   "mimetype": "text/x-python",
   "name": "python",
   "nbconvert_exporter": "python",
   "pygments_lexer": "ipython3",
   "version": "3.6.8"
  }
 },
 "nbformat": 4,
 "nbformat_minor": 2
}
